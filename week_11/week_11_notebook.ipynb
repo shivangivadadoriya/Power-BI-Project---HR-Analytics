{
  "nbformat": 4,
  "nbformat_minor": 0,
  "metadata": {
    "colab": {
      "provenance": []
    },
    "kernelspec": {
      "name": "python3",
      "display_name": "Python 3"
    },
    "language_info": {
      "name": "python"
    }
  },
  "cells": [
    {
      "cell_type": "markdown",
      "source": [
        "# DATA5000 DGEA Deep Causal AI\n",
        "\n",
        "## Data Engineering Economic Time Series Data"
      ],
      "metadata": {
        "id": "kRtWnjDtDVrC"
      }
    },
    {
      "cell_type": "code",
      "execution_count": 1,
      "metadata": {
        "colab": {
          "base_uri": "https://localhost:8080/"
        },
        "id": "Wxwiy0-CDL38",
        "outputId": "3a1c6341-8cd9-4e78-d820-4486bb49aa5b"
      },
      "outputs": [
        {
          "output_type": "stream",
          "name": "stdout",
          "text": [
            "Collecting tsgm\n",
            "  Downloading tsgm-0.0.7.tar.gz (76 kB)\n",
            "\u001b[?25l     \u001b[90m━━━━━━━━━━━━━━━━━━━━━━━━━━━━━━━━━━━━━━━━\u001b[0m \u001b[32m0.0/76.4 kB\u001b[0m \u001b[31m?\u001b[0m eta \u001b[36m-:--:--\u001b[0m\r\u001b[2K     \u001b[90m━━━━━━━━━━━━━━━━━━━━━━━━━━━━━━━━━━━━━━━━\u001b[0m \u001b[32m76.4/76.4 kB\u001b[0m \u001b[31m4.2 MB/s\u001b[0m eta \u001b[36m0:00:00\u001b[0m\n",
            "\u001b[?25h  Preparing metadata (setup.py) ... \u001b[?25l\u001b[?25hdone\n",
            "Requirement already satisfied: scipy in /usr/local/lib/python3.11/dist-packages (from tsgm) (1.13.1)\n",
            "Requirement already satisfied: numpy in /usr/local/lib/python3.11/dist-packages (from tsgm) (1.26.4)\n",
            "Requirement already satisfied: networkx in /usr/local/lib/python3.11/dist-packages (from tsgm) (3.4.2)\n",
            "Requirement already satisfied: seaborn in /usr/local/lib/python3.11/dist-packages (from tsgm) (0.13.2)\n",
            "Requirement already satisfied: scikit-learn in /usr/local/lib/python3.11/dist-packages (from tsgm) (1.6.1)\n",
            "Requirement already satisfied: prettytable in /usr/local/lib/python3.11/dist-packages (from tsgm) (3.13.0)\n",
            "Collecting antropy==0.1.6 (from tsgm)\n",
            "  Downloading antropy-0.1.6.tar.gz (17 kB)\n",
            "  Installing build dependencies ... \u001b[?25l\u001b[?25hdone\n",
            "  Getting requirements to build wheel ... \u001b[?25l\u001b[?25hdone\n",
            "  Preparing metadata (pyproject.toml) ... \u001b[?25l\u001b[?25hdone\n",
            "Collecting yfinance==0.2.28 (from tsgm)\n",
            "  Downloading yfinance-0.2.28-py2.py3-none-any.whl.metadata (11 kB)\n",
            "Requirement already satisfied: tqdm in /usr/local/lib/python3.11/dist-packages (from tsgm) (4.67.1)\n",
            "Collecting dtaidistance>=2.3.10 (from tsgm)\n",
            "  Downloading dtaidistance-2.3.12.tar.gz (1.0 MB)\n",
            "\u001b[2K     \u001b[90m━━━━━━━━━━━━━━━━━━━━━━━━━━━━━━━━━━━━━━━━\u001b[0m \u001b[32m1.0/1.0 MB\u001b[0m \u001b[31m57.2 MB/s\u001b[0m eta \u001b[36m0:00:00\u001b[0m\n",
            "\u001b[?25h  Installing build dependencies ... \u001b[?25l\u001b[?25hdone\n",
            "  Getting requirements to build wheel ... \u001b[?25l\u001b[?25hdone\n",
            "  Preparing metadata (pyproject.toml) ... \u001b[?25l\u001b[?25hdone\n",
            "Collecting tensorflow<2.16 (from tsgm)\n",
            "  Downloading tensorflow-2.15.1-cp311-cp311-manylinux_2_17_x86_64.manylinux2014_x86_64.whl.metadata (4.2 kB)\n",
            "Collecting tensorflow-probability<0.24.0 (from tsgm)\n",
            "  Downloading tensorflow_probability-0.23.0-py2.py3-none-any.whl.metadata (13 kB)\n",
            "Requirement already satisfied: statsmodels in /usr/local/lib/python3.11/dist-packages (from tsgm) (0.14.4)\n",
            "Requirement already satisfied: numba>=0.57 in /usr/local/lib/python3.11/dist-packages (from antropy==0.1.6->tsgm) (0.60.0)\n",
            "Collecting stochastic (from antropy==0.1.6->tsgm)\n",
            "  Downloading stochastic-0.6.0-py3-none-any.whl.metadata (6.0 kB)\n",
            "Requirement already satisfied: pandas>=1.3.0 in /usr/local/lib/python3.11/dist-packages (from yfinance==0.2.28->tsgm) (2.2.2)\n",
            "Requirement already satisfied: requests>=2.31 in /usr/local/lib/python3.11/dist-packages (from yfinance==0.2.28->tsgm) (2.32.3)\n",
            "Requirement already satisfied: multitasking>=0.0.7 in /usr/local/lib/python3.11/dist-packages (from yfinance==0.2.28->tsgm) (0.0.11)\n",
            "Requirement already satisfied: lxml>=4.9.1 in /usr/local/lib/python3.11/dist-packages (from yfinance==0.2.28->tsgm) (5.3.0)\n",
            "Collecting appdirs>=1.4.4 (from yfinance==0.2.28->tsgm)\n",
            "  Downloading appdirs-1.4.4-py2.py3-none-any.whl.metadata (9.0 kB)\n",
            "Requirement already satisfied: pytz>=2022.5 in /usr/local/lib/python3.11/dist-packages (from yfinance==0.2.28->tsgm) (2024.2)\n",
            "Requirement already satisfied: frozendict>=2.3.4 in /usr/local/lib/python3.11/dist-packages (from yfinance==0.2.28->tsgm) (2.4.6)\n",
            "Requirement already satisfied: beautifulsoup4>=4.11.1 in /usr/local/lib/python3.11/dist-packages (from yfinance==0.2.28->tsgm) (4.12.3)\n",
            "Requirement already satisfied: html5lib>=1.1 in /usr/local/lib/python3.11/dist-packages (from yfinance==0.2.28->tsgm) (1.1)\n",
            "Requirement already satisfied: absl-py>=1.0.0 in /usr/local/lib/python3.11/dist-packages (from tensorflow<2.16->tsgm) (1.4.0)\n",
            "Requirement already satisfied: astunparse>=1.6.0 in /usr/local/lib/python3.11/dist-packages (from tensorflow<2.16->tsgm) (1.6.3)\n",
            "Requirement already satisfied: flatbuffers>=23.5.26 in /usr/local/lib/python3.11/dist-packages (from tensorflow<2.16->tsgm) (25.1.24)\n",
            "Requirement already satisfied: gast!=0.5.0,!=0.5.1,!=0.5.2,>=0.2.1 in /usr/local/lib/python3.11/dist-packages (from tensorflow<2.16->tsgm) (0.6.0)\n",
            "Requirement already satisfied: google-pasta>=0.1.1 in /usr/local/lib/python3.11/dist-packages (from tensorflow<2.16->tsgm) (0.2.0)\n",
            "Requirement already satisfied: h5py>=2.9.0 in /usr/local/lib/python3.11/dist-packages (from tensorflow<2.16->tsgm) (3.12.1)\n",
            "Requirement already satisfied: libclang>=13.0.0 in /usr/local/lib/python3.11/dist-packages (from tensorflow<2.16->tsgm) (18.1.1)\n",
            "Collecting ml-dtypes~=0.3.1 (from tensorflow<2.16->tsgm)\n",
            "  Downloading ml_dtypes-0.3.2-cp311-cp311-manylinux_2_17_x86_64.manylinux2014_x86_64.whl.metadata (20 kB)\n",
            "Requirement already satisfied: opt-einsum>=2.3.2 in /usr/local/lib/python3.11/dist-packages (from tensorflow<2.16->tsgm) (3.4.0)\n",
            "Requirement already satisfied: packaging in /usr/local/lib/python3.11/dist-packages (from tensorflow<2.16->tsgm) (24.2)\n",
            "Requirement already satisfied: protobuf!=4.21.0,!=4.21.1,!=4.21.2,!=4.21.3,!=4.21.4,!=4.21.5,<5.0.0dev,>=3.20.3 in /usr/local/lib/python3.11/dist-packages (from tensorflow<2.16->tsgm) (4.25.6)\n",
            "Requirement already satisfied: setuptools in /usr/local/lib/python3.11/dist-packages (from tensorflow<2.16->tsgm) (75.1.0)\n",
            "Requirement already satisfied: six>=1.12.0 in /usr/local/lib/python3.11/dist-packages (from tensorflow<2.16->tsgm) (1.17.0)\n",
            "Requirement already satisfied: termcolor>=1.1.0 in /usr/local/lib/python3.11/dist-packages (from tensorflow<2.16->tsgm) (2.5.0)\n",
            "Requirement already satisfied: typing-extensions>=3.6.6 in /usr/local/lib/python3.11/dist-packages (from tensorflow<2.16->tsgm) (4.12.2)\n",
            "Collecting wrapt<1.15,>=1.11.0 (from tensorflow<2.16->tsgm)\n",
            "  Downloading wrapt-1.14.1-cp311-cp311-manylinux_2_5_x86_64.manylinux1_x86_64.manylinux_2_17_x86_64.manylinux2014_x86_64.whl.metadata (6.7 kB)\n",
            "Requirement already satisfied: tensorflow-io-gcs-filesystem>=0.23.1 in /usr/local/lib/python3.11/dist-packages (from tensorflow<2.16->tsgm) (0.37.1)\n",
            "Requirement already satisfied: grpcio<2.0,>=1.24.3 in /usr/local/lib/python3.11/dist-packages (from tensorflow<2.16->tsgm) (1.70.0)\n",
            "Collecting tensorboard<2.16,>=2.15 (from tensorflow<2.16->tsgm)\n",
            "  Downloading tensorboard-2.15.2-py3-none-any.whl.metadata (1.7 kB)\n",
            "Collecting tensorflow-estimator<2.16,>=2.15.0 (from tensorflow<2.16->tsgm)\n",
            "  Downloading tensorflow_estimator-2.15.0-py2.py3-none-any.whl.metadata (1.3 kB)\n",
            "Collecting keras<2.16,>=2.15.0 (from tensorflow<2.16->tsgm)\n",
            "  Downloading keras-2.15.0-py3-none-any.whl.metadata (2.4 kB)\n",
            "Requirement already satisfied: decorator in /usr/local/lib/python3.11/dist-packages (from tensorflow-probability<0.24.0->tsgm) (4.4.2)\n",
            "Requirement already satisfied: cloudpickle>=1.3 in /usr/local/lib/python3.11/dist-packages (from tensorflow-probability<0.24.0->tsgm) (3.1.1)\n",
            "Requirement already satisfied: dm-tree in /usr/local/lib/python3.11/dist-packages (from tensorflow-probability<0.24.0->tsgm) (0.1.8)\n",
            "Requirement already satisfied: wcwidth in /usr/local/lib/python3.11/dist-packages (from prettytable->tsgm) (0.2.13)\n",
            "Requirement already satisfied: joblib>=1.2.0 in /usr/local/lib/python3.11/dist-packages (from scikit-learn->tsgm) (1.4.2)\n",
            "Requirement already satisfied: threadpoolctl>=3.1.0 in /usr/local/lib/python3.11/dist-packages (from scikit-learn->tsgm) (3.5.0)\n",
            "Requirement already satisfied: matplotlib!=3.6.1,>=3.4 in /usr/local/lib/python3.11/dist-packages (from seaborn->tsgm) (3.10.0)\n",
            "Requirement already satisfied: patsy>=0.5.6 in /usr/local/lib/python3.11/dist-packages (from statsmodels->tsgm) (1.0.1)\n",
            "Requirement already satisfied: wheel<1.0,>=0.23.0 in /usr/local/lib/python3.11/dist-packages (from astunparse>=1.6.0->tensorflow<2.16->tsgm) (0.45.1)\n",
            "Requirement already satisfied: soupsieve>1.2 in /usr/local/lib/python3.11/dist-packages (from beautifulsoup4>=4.11.1->yfinance==0.2.28->tsgm) (2.6)\n",
            "Requirement already satisfied: webencodings in /usr/local/lib/python3.11/dist-packages (from html5lib>=1.1->yfinance==0.2.28->tsgm) (0.5.1)\n",
            "Requirement already satisfied: contourpy>=1.0.1 in /usr/local/lib/python3.11/dist-packages (from matplotlib!=3.6.1,>=3.4->seaborn->tsgm) (1.3.1)\n",
            "Requirement already satisfied: cycler>=0.10 in /usr/local/lib/python3.11/dist-packages (from matplotlib!=3.6.1,>=3.4->seaborn->tsgm) (0.12.1)\n",
            "Requirement already satisfied: fonttools>=4.22.0 in /usr/local/lib/python3.11/dist-packages (from matplotlib!=3.6.1,>=3.4->seaborn->tsgm) (4.55.7)\n",
            "Requirement already satisfied: kiwisolver>=1.3.1 in /usr/local/lib/python3.11/dist-packages (from matplotlib!=3.6.1,>=3.4->seaborn->tsgm) (1.4.8)\n",
            "Requirement already satisfied: pillow>=8 in /usr/local/lib/python3.11/dist-packages (from matplotlib!=3.6.1,>=3.4->seaborn->tsgm) (11.1.0)\n",
            "Requirement already satisfied: pyparsing>=2.3.1 in /usr/local/lib/python3.11/dist-packages (from matplotlib!=3.6.1,>=3.4->seaborn->tsgm) (3.2.1)\n",
            "Requirement already satisfied: python-dateutil>=2.7 in /usr/local/lib/python3.11/dist-packages (from matplotlib!=3.6.1,>=3.4->seaborn->tsgm) (2.8.2)\n",
            "Requirement already satisfied: llvmlite<0.44,>=0.43.0dev0 in /usr/local/lib/python3.11/dist-packages (from numba>=0.57->antropy==0.1.6->tsgm) (0.43.0)\n",
            "Requirement already satisfied: tzdata>=2022.7 in /usr/local/lib/python3.11/dist-packages (from pandas>=1.3.0->yfinance==0.2.28->tsgm) (2025.1)\n",
            "Requirement already satisfied: charset-normalizer<4,>=2 in /usr/local/lib/python3.11/dist-packages (from requests>=2.31->yfinance==0.2.28->tsgm) (3.4.1)\n",
            "Requirement already satisfied: idna<4,>=2.5 in /usr/local/lib/python3.11/dist-packages (from requests>=2.31->yfinance==0.2.28->tsgm) (3.10)\n",
            "Requirement already satisfied: urllib3<3,>=1.21.1 in /usr/local/lib/python3.11/dist-packages (from requests>=2.31->yfinance==0.2.28->tsgm) (2.3.0)\n",
            "Requirement already satisfied: certifi>=2017.4.17 in /usr/local/lib/python3.11/dist-packages (from requests>=2.31->yfinance==0.2.28->tsgm) (2024.12.14)\n",
            "Requirement already satisfied: google-auth<3,>=1.6.3 in /usr/local/lib/python3.11/dist-packages (from tensorboard<2.16,>=2.15->tensorflow<2.16->tsgm) (2.27.0)\n",
            "Requirement already satisfied: google-auth-oauthlib<2,>=0.5 in /usr/local/lib/python3.11/dist-packages (from tensorboard<2.16,>=2.15->tensorflow<2.16->tsgm) (1.2.1)\n",
            "Requirement already satisfied: markdown>=2.6.8 in /usr/local/lib/python3.11/dist-packages (from tensorboard<2.16,>=2.15->tensorflow<2.16->tsgm) (3.7)\n",
            "Requirement already satisfied: tensorboard-data-server<0.8.0,>=0.7.0 in /usr/local/lib/python3.11/dist-packages (from tensorboard<2.16,>=2.15->tensorflow<2.16->tsgm) (0.7.2)\n",
            "Requirement already satisfied: werkzeug>=1.0.1 in /usr/local/lib/python3.11/dist-packages (from tensorboard<2.16,>=2.15->tensorflow<2.16->tsgm) (3.1.3)\n",
            "Requirement already satisfied: cachetools<6.0,>=2.0.0 in /usr/local/lib/python3.11/dist-packages (from google-auth<3,>=1.6.3->tensorboard<2.16,>=2.15->tensorflow<2.16->tsgm) (5.5.1)\n",
            "Requirement already satisfied: pyasn1-modules>=0.2.1 in /usr/local/lib/python3.11/dist-packages (from google-auth<3,>=1.6.3->tensorboard<2.16,>=2.15->tensorflow<2.16->tsgm) (0.4.1)\n",
            "Requirement already satisfied: rsa<5,>=3.1.4 in /usr/local/lib/python3.11/dist-packages (from google-auth<3,>=1.6.3->tensorboard<2.16,>=2.15->tensorflow<2.16->tsgm) (4.9)\n",
            "Requirement already satisfied: requests-oauthlib>=0.7.0 in /usr/local/lib/python3.11/dist-packages (from google-auth-oauthlib<2,>=0.5->tensorboard<2.16,>=2.15->tensorflow<2.16->tsgm) (1.3.1)\n",
            "Requirement already satisfied: MarkupSafe>=2.1.1 in /usr/local/lib/python3.11/dist-packages (from werkzeug>=1.0.1->tensorboard<2.16,>=2.15->tensorflow<2.16->tsgm) (3.0.2)\n",
            "Requirement already satisfied: pyasn1<0.7.0,>=0.4.6 in /usr/local/lib/python3.11/dist-packages (from pyasn1-modules>=0.2.1->google-auth<3,>=1.6.3->tensorboard<2.16,>=2.15->tensorflow<2.16->tsgm) (0.6.1)\n",
            "Requirement already satisfied: oauthlib>=3.0.0 in /usr/local/lib/python3.11/dist-packages (from requests-oauthlib>=0.7.0->google-auth-oauthlib<2,>=0.5->tensorboard<2.16,>=2.15->tensorflow<2.16->tsgm) (3.2.2)\n",
            "Downloading yfinance-0.2.28-py2.py3-none-any.whl (65 kB)\n",
            "\u001b[2K   \u001b[90m━━━━━━━━━━━━━━━━━━━━━━━━━━━━━━━━━━━━━━━━\u001b[0m \u001b[32m65.3/65.3 kB\u001b[0m \u001b[31m6.3 MB/s\u001b[0m eta \u001b[36m0:00:00\u001b[0m\n",
            "\u001b[?25hDownloading tensorflow-2.15.1-cp311-cp311-manylinux_2_17_x86_64.manylinux2014_x86_64.whl (475.3 MB)\n",
            "\u001b[2K   \u001b[90m━━━━━━━━━━━━━━━━━━━━━━━━━━━━━━━━━━━━━━━━\u001b[0m \u001b[32m475.3/475.3 MB\u001b[0m \u001b[31m2.6 MB/s\u001b[0m eta \u001b[36m0:00:00\u001b[0m\n",
            "\u001b[?25hDownloading tensorflow_probability-0.23.0-py2.py3-none-any.whl (6.9 MB)\n",
            "\u001b[2K   \u001b[90m━━━━━━━━━━━━━━━━━━━━━━━━━━━━━━━━━━━━━━━━\u001b[0m \u001b[32m6.9/6.9 MB\u001b[0m \u001b[31m56.9 MB/s\u001b[0m eta \u001b[36m0:00:00\u001b[0m\n",
            "\u001b[?25hDownloading appdirs-1.4.4-py2.py3-none-any.whl (9.6 kB)\n",
            "Downloading keras-2.15.0-py3-none-any.whl (1.7 MB)\n",
            "\u001b[2K   \u001b[90m━━━━━━━━━━━━━━━━━━━━━━━━━━━━━━━━━━━━━━━━\u001b[0m \u001b[32m1.7/1.7 MB\u001b[0m \u001b[31m69.2 MB/s\u001b[0m eta \u001b[36m0:00:00\u001b[0m\n",
            "\u001b[?25hDownloading ml_dtypes-0.3.2-cp311-cp311-manylinux_2_17_x86_64.manylinux2014_x86_64.whl (2.2 MB)\n",
            "\u001b[2K   \u001b[90m━━━━━━━━━━━━━━━━━━━━━━━━━━━━━━━━━━━━━━━━\u001b[0m \u001b[32m2.2/2.2 MB\u001b[0m \u001b[31m61.9 MB/s\u001b[0m eta \u001b[36m0:00:00\u001b[0m\n",
            "\u001b[?25hDownloading tensorboard-2.15.2-py3-none-any.whl (5.5 MB)\n",
            "\u001b[2K   \u001b[90m━━━━━━━━━━━━━━━━━━━━━━━━━━━━━━━━━━━━━━━━\u001b[0m \u001b[32m5.5/5.5 MB\u001b[0m \u001b[31m46.3 MB/s\u001b[0m eta \u001b[36m0:00:00\u001b[0m\n",
            "\u001b[?25hDownloading tensorflow_estimator-2.15.0-py2.py3-none-any.whl (441 kB)\n",
            "\u001b[2K   \u001b[90m━━━━━━━━━━━━━━━━━━━━━━━━━━━━━━━━━━━━━━━━\u001b[0m \u001b[32m442.0/442.0 kB\u001b[0m \u001b[31m32.7 MB/s\u001b[0m eta \u001b[36m0:00:00\u001b[0m\n",
            "\u001b[?25hDownloading wrapt-1.14.1-cp311-cp311-manylinux_2_5_x86_64.manylinux1_x86_64.manylinux_2_17_x86_64.manylinux2014_x86_64.whl (78 kB)\n",
            "\u001b[2K   \u001b[90m━━━━━━━━━━━━━━━━━━━━━━━━━━━━━━━━━━━━━━━━\u001b[0m \u001b[32m78.4/78.4 kB\u001b[0m \u001b[31m8.2 MB/s\u001b[0m eta \u001b[36m0:00:00\u001b[0m\n",
            "\u001b[?25hDownloading stochastic-0.6.0-py3-none-any.whl (49 kB)\n",
            "\u001b[2K   \u001b[90m━━━━━━━━━━━━━━━━━━━━━━━━━━━━━━━━━━━━━━━━\u001b[0m \u001b[32m49.5/49.5 kB\u001b[0m \u001b[31m4.9 MB/s\u001b[0m eta \u001b[36m0:00:00\u001b[0m\n",
            "\u001b[?25hBuilding wheels for collected packages: tsgm, antropy, dtaidistance\n",
            "  Building wheel for tsgm (setup.py) ... \u001b[?25l\u001b[?25hdone\n",
            "  Created wheel for tsgm: filename=tsgm-0.0.7-py3-none-any.whl size=65393 sha256=187eddf8840f83345a0aa581604a97301713fc2329ed9ddaba1d255db32614fe\n",
            "  Stored in directory: /root/.cache/pip/wheels/21/46/96/6f5f6ee8da05f03b891f43a68ef13310e188b60567a0e49797\n",
            "  Building wheel for antropy (pyproject.toml) ... \u001b[?25l\u001b[?25hdone\n",
            "  Created wheel for antropy: filename=antropy-0.1.6-py3-none-any.whl size=16932 sha256=35d53874723be618b0fb454f7f0015b37af8fe74ac0e393b9101abfb80f80a93\n",
            "  Stored in directory: /root/.cache/pip/wheels/47/ae/ac/6501b6b93a6192480161e73be04504ac22183fe182e83cfb83\n",
            "  Building wheel for dtaidistance (pyproject.toml) ... \u001b[?25l\u001b[?25hdone\n",
            "  Created wheel for dtaidistance: filename=dtaidistance-2.3.12-cp311-cp311-linux_x86_64.whl size=2628507 sha256=f97e13a468d5e93cc195cefa68fc9b6699af5e82b545fdfe55c1aa7fe7623cc2\n",
            "  Stored in directory: /root/.cache/pip/wheels/d9/3e/79/f71e79f61d63670c1f7cf9df3e474d9d9ccb35e56b547f8896\n",
            "Successfully built tsgm antropy dtaidistance\n",
            "Installing collected packages: appdirs, wrapt, tensorflow-probability, tensorflow-estimator, ml-dtypes, keras, dtaidistance, stochastic, yfinance, antropy, tensorboard, tensorflow, tsgm\n",
            "  Attempting uninstall: wrapt\n",
            "    Found existing installation: wrapt 1.17.2\n",
            "    Uninstalling wrapt-1.17.2:\n",
            "      Successfully uninstalled wrapt-1.17.2\n",
            "  Attempting uninstall: tensorflow-probability\n",
            "    Found existing installation: tensorflow-probability 0.24.0\n",
            "    Uninstalling tensorflow-probability-0.24.0:\n",
            "      Successfully uninstalled tensorflow-probability-0.24.0\n",
            "  Attempting uninstall: ml-dtypes\n",
            "    Found existing installation: ml-dtypes 0.4.1\n",
            "    Uninstalling ml-dtypes-0.4.1:\n",
            "      Successfully uninstalled ml-dtypes-0.4.1\n",
            "  Attempting uninstall: keras\n",
            "    Found existing installation: keras 3.8.0\n",
            "    Uninstalling keras-3.8.0:\n",
            "      Successfully uninstalled keras-3.8.0\n",
            "  Attempting uninstall: yfinance\n",
            "    Found existing installation: yfinance 0.2.52\n",
            "    Uninstalling yfinance-0.2.52:\n",
            "      Successfully uninstalled yfinance-0.2.52\n",
            "  Attempting uninstall: tensorboard\n",
            "    Found existing installation: tensorboard 2.18.0\n",
            "    Uninstalling tensorboard-2.18.0:\n",
            "      Successfully uninstalled tensorboard-2.18.0\n",
            "  Attempting uninstall: tensorflow\n",
            "    Found existing installation: tensorflow 2.18.0\n",
            "    Uninstalling tensorflow-2.18.0:\n",
            "      Successfully uninstalled tensorflow-2.18.0\n",
            "\u001b[31mERROR: pip's dependency resolver does not currently take into account all the packages that are installed. This behaviour is the source of the following dependency conflicts.\n",
            "tensorflow-text 2.18.1 requires tensorflow<2.19,>=2.18.0, but you have tensorflow 2.15.1 which is incompatible.\n",
            "tf-keras 2.18.0 requires tensorflow<2.19,>=2.18, but you have tensorflow 2.15.1 which is incompatible.\u001b[0m\u001b[31m\n",
            "\u001b[0mSuccessfully installed antropy-0.1.6 appdirs-1.4.4 dtaidistance-2.3.12 keras-2.15.0 ml-dtypes-0.3.2 stochastic-0.6.0 tensorboard-2.15.2 tensorflow-2.15.1 tensorflow-estimator-2.15.0 tensorflow-probability-0.23.0 tsgm-0.0.7 wrapt-1.14.1 yfinance-0.2.28\n"
          ]
        }
      ],
      "source": [
        "!pip install tsgm"
      ]
    },
    {
      "cell_type": "code",
      "source": [
        "!pip install openpyxl"
      ],
      "metadata": {
        "id": "pvyzuCYIKOLM",
        "outputId": "a3aeebb1-5d9d-4f83-e1cb-0bb2e4531344",
        "colab": {
          "base_uri": "https://localhost:8080/"
        }
      },
      "execution_count": 2,
      "outputs": [
        {
          "output_type": "stream",
          "name": "stdout",
          "text": [
            "Requirement already satisfied: openpyxl in /usr/local/lib/python3.11/dist-packages (3.1.5)\n",
            "Requirement already satisfied: et-xmlfile in /usr/local/lib/python3.11/dist-packages (from openpyxl) (2.0.0)\n"
          ]
        }
      ]
    },
    {
      "cell_type": "code",
      "source": [
        "!pip install pandas numpy matplotlib keras"
      ],
      "metadata": {
        "id": "MrH3MKcGKr4h",
        "outputId": "a99ca08a-0706-47cb-fd34-47481d4d9dcf",
        "colab": {
          "base_uri": "https://localhost:8080/"
        }
      },
      "execution_count": 6,
      "outputs": [
        {
          "output_type": "stream",
          "name": "stdout",
          "text": [
            "Requirement already satisfied: pandas in /usr/local/lib/python3.11/dist-packages (2.2.2)\n",
            "Requirement already satisfied: numpy in /usr/local/lib/python3.11/dist-packages (1.26.4)\n",
            "Requirement already satisfied: matplotlib in /usr/local/lib/python3.11/dist-packages (3.10.0)\n",
            "Requirement already satisfied: keras in /usr/local/lib/python3.11/dist-packages (2.15.0)\n",
            "Requirement already satisfied: python-dateutil>=2.8.2 in /usr/local/lib/python3.11/dist-packages (from pandas) (2.8.2)\n",
            "Requirement already satisfied: pytz>=2020.1 in /usr/local/lib/python3.11/dist-packages (from pandas) (2024.2)\n",
            "Requirement already satisfied: tzdata>=2022.7 in /usr/local/lib/python3.11/dist-packages (from pandas) (2025.1)\n",
            "Requirement already satisfied: contourpy>=1.0.1 in /usr/local/lib/python3.11/dist-packages (from matplotlib) (1.3.1)\n",
            "Requirement already satisfied: cycler>=0.10 in /usr/local/lib/python3.11/dist-packages (from matplotlib) (0.12.1)\n",
            "Requirement already satisfied: fonttools>=4.22.0 in /usr/local/lib/python3.11/dist-packages (from matplotlib) (4.55.7)\n",
            "Requirement already satisfied: kiwisolver>=1.3.1 in /usr/local/lib/python3.11/dist-packages (from matplotlib) (1.4.8)\n",
            "Requirement already satisfied: packaging>=20.0 in /usr/local/lib/python3.11/dist-packages (from matplotlib) (24.2)\n",
            "Requirement already satisfied: pillow>=8 in /usr/local/lib/python3.11/dist-packages (from matplotlib) (11.1.0)\n",
            "Requirement already satisfied: pyparsing>=2.3.1 in /usr/local/lib/python3.11/dist-packages (from matplotlib) (3.2.1)\n",
            "Requirement already satisfied: six>=1.5 in /usr/local/lib/python3.11/dist-packages (from python-dateutil>=2.8.2->pandas) (1.17.0)\n"
          ]
        }
      ]
    },
    {
      "cell_type": "code",
      "source": [
        "import numpy as np\n",
        "import pandas as pd\n",
        "import openpyxl\n",
        "\n",
        "import matplotlib.pyplot as plt\n",
        "\n",
        "from tensorflow import keras\n",
        "from tensorflow.keras import layers\n",
        "\n",
        "import tensorflow as tf\n",
        "\n",
        "import tsgm"
      ],
      "metadata": {
        "id": "95dbzkfzEDtv"
      },
      "execution_count": 7,
      "outputs": []
    },
    {
      "cell_type": "markdown",
      "source": [
        "# List of all DGEA worksheets - in one Excel file\n",
        "## We load all sheets at once and then retrieve each sheet from a dictionary."
      ],
      "metadata": {
        "id": "OUMUYKSgXFbT"
      }
    },
    {
      "cell_type": "code",
      "source": [
        "dgea_files = ['AUS_CPI_QUARTER',\n",
        "              'AUS_CPI_MONTHLY',\n",
        "              'AUS_MONEY',\n",
        "              'AUS_CASHRATE',\n",
        "              'AUS_UNEMPLOY_PARTICPATION_RATE',\n",
        "              'AUS_EMPLOY_TOPOP',\n",
        "              'REALGDP',\n",
        "              'AUS_GNI',\n",
        "              'GOLDYAHOO',\n",
        "              'CRUDEOIL',\n",
        "              'IRONORE',\n",
        "              'SILVER',\n",
        "              'COPPER',\n",
        "              'USDEBT-MARKETVALUE',\n",
        "              'US-TREASURY-DEBT',\n",
        "              'USMONEYCIRCULATE',\n",
        "              'USD_BROADMONEY_CIRCULATION',\n",
        "              'US_CPI_MONTHLY',\n",
        "              'FEDFUNDRATE',\n",
        "              'GLOBAL-DEBT-GDP']"
      ],
      "metadata": {
        "id": "riKv-QhcO6m0"
      },
      "execution_count": 8,
      "outputs": []
    },
    {
      "cell_type": "code",
      "source": [
        "len(dgea_files)"
      ],
      "metadata": {
        "id": "2WXsc_f_qGrG",
        "outputId": "4dbe8209-102f-4408-bc06-11e41d2b28ab",
        "colab": {
          "base_uri": "https://localhost:8080/"
        }
      },
      "execution_count": 10,
      "outputs": [
        {
          "output_type": "execute_result",
          "data": {
            "text/plain": [
              "20"
            ]
          },
          "metadata": {},
          "execution_count": 10
        }
      ]
    },
    {
      "cell_type": "markdown",
      "source": [
        "## Load the entire DGEA Excel Workbook - all sheets"
      ],
      "metadata": {
        "id": "qgkz55Q-Qzk0"
      }
    },
    {
      "cell_type": "code",
      "source": [
        "# load excel workbook containing multiple sheets\n",
        "dgea = pd.read_excel('https://s3.ap-southeast-2.wasabisys.com/data5000/DGEA_ECONOMICS_DATASET2023v1.xlsx', sheet_name=dgea_files)"
      ],
      "metadata": {
        "id": "qD2hNVrPKIL3",
        "outputId": "ea8c3701-d1e3-4dfa-f4ee-ad2f06a8d3f7",
        "colab": {
          "base_uri": "https://localhost:8080/",
          "height": 304
        }
      },
      "execution_count": 13,
      "outputs": [
        {
          "output_type": "error",
          "ename": "HTTPError",
          "evalue": "HTTP Error 404: Not Found",
          "traceback": [
            "\u001b[0;31m---------------------------------------------------------------------------\u001b[0m",
            "\u001b[0;31mHTTPError\u001b[0m                                 Traceback (most recent call last)",
            "\u001b[0;32m<ipython-input-13-0d380d6c47db>\u001b[0m in \u001b[0;36m<cell line: 0>\u001b[0;34m()\u001b[0m\n\u001b[1;32m      1\u001b[0m \u001b[0;31m# load excel workbook containing multiple sheets\u001b[0m\u001b[0;34m\u001b[0m\u001b[0;34m\u001b[0m\u001b[0m\n\u001b[0;32m----> 2\u001b[0;31m \u001b[0mdgea\u001b[0m \u001b[0;34m=\u001b[0m \u001b[0mpd\u001b[0m\u001b[0;34m.\u001b[0m\u001b[0mread_excel\u001b[0m\u001b[0;34m(\u001b[0m\u001b[0;34m'https://s3.ap-southeast-2.wasabisys.com/data5000/DGEA_ECONOMICS_DATASET2023v1.xlsx'\u001b[0m\u001b[0;34m,\u001b[0m \u001b[0msheet_name\u001b[0m\u001b[0;34m=\u001b[0m\u001b[0mdgea_files\u001b[0m\u001b[0;34m)\u001b[0m\u001b[0;34m\u001b[0m\u001b[0;34m\u001b[0m\u001b[0m\n\u001b[0m",
            "\u001b[0;32m/usr/local/lib/python3.11/dist-packages/pandas/io/excel/_base.py\u001b[0m in \u001b[0;36mread_excel\u001b[0;34m(io, sheet_name, header, names, index_col, usecols, dtype, engine, converters, true_values, false_values, skiprows, nrows, na_values, keep_default_na, na_filter, verbose, parse_dates, date_parser, date_format, thousands, decimal, comment, skipfooter, storage_options, dtype_backend, engine_kwargs)\u001b[0m\n\u001b[1;32m    493\u001b[0m     \u001b[0;32mif\u001b[0m \u001b[0;32mnot\u001b[0m \u001b[0misinstance\u001b[0m\u001b[0;34m(\u001b[0m\u001b[0mio\u001b[0m\u001b[0;34m,\u001b[0m \u001b[0mExcelFile\u001b[0m\u001b[0;34m)\u001b[0m\u001b[0;34m:\u001b[0m\u001b[0;34m\u001b[0m\u001b[0;34m\u001b[0m\u001b[0m\n\u001b[1;32m    494\u001b[0m         \u001b[0mshould_close\u001b[0m \u001b[0;34m=\u001b[0m \u001b[0;32mTrue\u001b[0m\u001b[0;34m\u001b[0m\u001b[0;34m\u001b[0m\u001b[0m\n\u001b[0;32m--> 495\u001b[0;31m         io = ExcelFile(\n\u001b[0m\u001b[1;32m    496\u001b[0m             \u001b[0mio\u001b[0m\u001b[0;34m,\u001b[0m\u001b[0;34m\u001b[0m\u001b[0;34m\u001b[0m\u001b[0m\n\u001b[1;32m    497\u001b[0m             \u001b[0mstorage_options\u001b[0m\u001b[0;34m=\u001b[0m\u001b[0mstorage_options\u001b[0m\u001b[0;34m,\u001b[0m\u001b[0;34m\u001b[0m\u001b[0;34m\u001b[0m\u001b[0m\n",
            "\u001b[0;32m/usr/local/lib/python3.11/dist-packages/pandas/io/excel/_base.py\u001b[0m in \u001b[0;36m__init__\u001b[0;34m(self, path_or_buffer, engine, storage_options, engine_kwargs)\u001b[0m\n\u001b[1;32m   1548\u001b[0m                 \u001b[0mext\u001b[0m \u001b[0;34m=\u001b[0m \u001b[0;34m\"xls\"\u001b[0m\u001b[0;34m\u001b[0m\u001b[0;34m\u001b[0m\u001b[0m\n\u001b[1;32m   1549\u001b[0m             \u001b[0;32melse\u001b[0m\u001b[0;34m:\u001b[0m\u001b[0;34m\u001b[0m\u001b[0;34m\u001b[0m\u001b[0m\n\u001b[0;32m-> 1550\u001b[0;31m                 ext = inspect_excel_format(\n\u001b[0m\u001b[1;32m   1551\u001b[0m                     \u001b[0mcontent_or_path\u001b[0m\u001b[0;34m=\u001b[0m\u001b[0mpath_or_buffer\u001b[0m\u001b[0;34m,\u001b[0m \u001b[0mstorage_options\u001b[0m\u001b[0;34m=\u001b[0m\u001b[0mstorage_options\u001b[0m\u001b[0;34m\u001b[0m\u001b[0;34m\u001b[0m\u001b[0m\n\u001b[1;32m   1552\u001b[0m                 )\n",
            "\u001b[0;32m/usr/local/lib/python3.11/dist-packages/pandas/io/excel/_base.py\u001b[0m in \u001b[0;36minspect_excel_format\u001b[0;34m(content_or_path, storage_options)\u001b[0m\n\u001b[1;32m   1400\u001b[0m         \u001b[0mcontent_or_path\u001b[0m \u001b[0;34m=\u001b[0m \u001b[0mBytesIO\u001b[0m\u001b[0;34m(\u001b[0m\u001b[0mcontent_or_path\u001b[0m\u001b[0;34m)\u001b[0m\u001b[0;34m\u001b[0m\u001b[0;34m\u001b[0m\u001b[0m\n\u001b[1;32m   1401\u001b[0m \u001b[0;34m\u001b[0m\u001b[0m\n\u001b[0;32m-> 1402\u001b[0;31m     with get_handle(\n\u001b[0m\u001b[1;32m   1403\u001b[0m         \u001b[0mcontent_or_path\u001b[0m\u001b[0;34m,\u001b[0m \u001b[0;34m\"rb\"\u001b[0m\u001b[0;34m,\u001b[0m \u001b[0mstorage_options\u001b[0m\u001b[0;34m=\u001b[0m\u001b[0mstorage_options\u001b[0m\u001b[0;34m,\u001b[0m \u001b[0mis_text\u001b[0m\u001b[0;34m=\u001b[0m\u001b[0;32mFalse\u001b[0m\u001b[0;34m\u001b[0m\u001b[0;34m\u001b[0m\u001b[0m\n\u001b[1;32m   1404\u001b[0m     ) as handle:\n",
            "\u001b[0;32m/usr/local/lib/python3.11/dist-packages/pandas/io/common.py\u001b[0m in \u001b[0;36mget_handle\u001b[0;34m(path_or_buf, mode, encoding, compression, memory_map, is_text, errors, storage_options)\u001b[0m\n\u001b[1;32m    726\u001b[0m \u001b[0;34m\u001b[0m\u001b[0m\n\u001b[1;32m    727\u001b[0m     \u001b[0;31m# open URLs\u001b[0m\u001b[0;34m\u001b[0m\u001b[0;34m\u001b[0m\u001b[0m\n\u001b[0;32m--> 728\u001b[0;31m     ioargs = _get_filepath_or_buffer(\n\u001b[0m\u001b[1;32m    729\u001b[0m         \u001b[0mpath_or_buf\u001b[0m\u001b[0;34m,\u001b[0m\u001b[0;34m\u001b[0m\u001b[0;34m\u001b[0m\u001b[0m\n\u001b[1;32m    730\u001b[0m         \u001b[0mencoding\u001b[0m\u001b[0;34m=\u001b[0m\u001b[0mencoding\u001b[0m\u001b[0;34m,\u001b[0m\u001b[0;34m\u001b[0m\u001b[0;34m\u001b[0m\u001b[0m\n",
            "\u001b[0;32m/usr/local/lib/python3.11/dist-packages/pandas/io/common.py\u001b[0m in \u001b[0;36m_get_filepath_or_buffer\u001b[0;34m(filepath_or_buffer, encoding, compression, mode, storage_options)\u001b[0m\n\u001b[1;32m    382\u001b[0m         \u001b[0;31m# assuming storage_options is to be interpreted as headers\u001b[0m\u001b[0;34m\u001b[0m\u001b[0;34m\u001b[0m\u001b[0m\n\u001b[1;32m    383\u001b[0m         \u001b[0mreq_info\u001b[0m \u001b[0;34m=\u001b[0m \u001b[0murllib\u001b[0m\u001b[0;34m.\u001b[0m\u001b[0mrequest\u001b[0m\u001b[0;34m.\u001b[0m\u001b[0mRequest\u001b[0m\u001b[0;34m(\u001b[0m\u001b[0mfilepath_or_buffer\u001b[0m\u001b[0;34m,\u001b[0m \u001b[0mheaders\u001b[0m\u001b[0;34m=\u001b[0m\u001b[0mstorage_options\u001b[0m\u001b[0;34m)\u001b[0m\u001b[0;34m\u001b[0m\u001b[0;34m\u001b[0m\u001b[0m\n\u001b[0;32m--> 384\u001b[0;31m         \u001b[0;32mwith\u001b[0m \u001b[0murlopen\u001b[0m\u001b[0;34m(\u001b[0m\u001b[0mreq_info\u001b[0m\u001b[0;34m)\u001b[0m \u001b[0;32mas\u001b[0m \u001b[0mreq\u001b[0m\u001b[0;34m:\u001b[0m\u001b[0;34m\u001b[0m\u001b[0;34m\u001b[0m\u001b[0m\n\u001b[0m\u001b[1;32m    385\u001b[0m             \u001b[0mcontent_encoding\u001b[0m \u001b[0;34m=\u001b[0m \u001b[0mreq\u001b[0m\u001b[0;34m.\u001b[0m\u001b[0mheaders\u001b[0m\u001b[0;34m.\u001b[0m\u001b[0mget\u001b[0m\u001b[0;34m(\u001b[0m\u001b[0;34m\"Content-Encoding\"\u001b[0m\u001b[0;34m,\u001b[0m \u001b[0;32mNone\u001b[0m\u001b[0;34m)\u001b[0m\u001b[0;34m\u001b[0m\u001b[0;34m\u001b[0m\u001b[0m\n\u001b[1;32m    386\u001b[0m             \u001b[0;32mif\u001b[0m \u001b[0mcontent_encoding\u001b[0m \u001b[0;34m==\u001b[0m \u001b[0;34m\"gzip\"\u001b[0m\u001b[0;34m:\u001b[0m\u001b[0;34m\u001b[0m\u001b[0;34m\u001b[0m\u001b[0m\n",
            "\u001b[0;32m/usr/local/lib/python3.11/dist-packages/pandas/io/common.py\u001b[0m in \u001b[0;36murlopen\u001b[0;34m(*args, **kwargs)\u001b[0m\n\u001b[1;32m    287\u001b[0m     \u001b[0;32mimport\u001b[0m \u001b[0murllib\u001b[0m\u001b[0;34m.\u001b[0m\u001b[0mrequest\u001b[0m\u001b[0;34m\u001b[0m\u001b[0;34m\u001b[0m\u001b[0m\n\u001b[1;32m    288\u001b[0m \u001b[0;34m\u001b[0m\u001b[0m\n\u001b[0;32m--> 289\u001b[0;31m     \u001b[0;32mreturn\u001b[0m \u001b[0murllib\u001b[0m\u001b[0;34m.\u001b[0m\u001b[0mrequest\u001b[0m\u001b[0;34m.\u001b[0m\u001b[0murlopen\u001b[0m\u001b[0;34m(\u001b[0m\u001b[0;34m*\u001b[0m\u001b[0margs\u001b[0m\u001b[0;34m,\u001b[0m \u001b[0;34m**\u001b[0m\u001b[0mkwargs\u001b[0m\u001b[0;34m)\u001b[0m\u001b[0;34m\u001b[0m\u001b[0;34m\u001b[0m\u001b[0m\n\u001b[0m\u001b[1;32m    290\u001b[0m \u001b[0;34m\u001b[0m\u001b[0m\n\u001b[1;32m    291\u001b[0m \u001b[0;34m\u001b[0m\u001b[0m\n",
            "\u001b[0;32m/usr/lib/python3.11/urllib/request.py\u001b[0m in \u001b[0;36murlopen\u001b[0;34m(url, data, timeout, cafile, capath, cadefault, context)\u001b[0m\n\u001b[1;32m    214\u001b[0m     \u001b[0;32melse\u001b[0m\u001b[0;34m:\u001b[0m\u001b[0;34m\u001b[0m\u001b[0;34m\u001b[0m\u001b[0m\n\u001b[1;32m    215\u001b[0m         \u001b[0mopener\u001b[0m \u001b[0;34m=\u001b[0m \u001b[0m_opener\u001b[0m\u001b[0;34m\u001b[0m\u001b[0;34m\u001b[0m\u001b[0m\n\u001b[0;32m--> 216\u001b[0;31m     \u001b[0;32mreturn\u001b[0m \u001b[0mopener\u001b[0m\u001b[0;34m.\u001b[0m\u001b[0mopen\u001b[0m\u001b[0;34m(\u001b[0m\u001b[0murl\u001b[0m\u001b[0;34m,\u001b[0m \u001b[0mdata\u001b[0m\u001b[0;34m,\u001b[0m \u001b[0mtimeout\u001b[0m\u001b[0;34m)\u001b[0m\u001b[0;34m\u001b[0m\u001b[0;34m\u001b[0m\u001b[0m\n\u001b[0m\u001b[1;32m    217\u001b[0m \u001b[0;34m\u001b[0m\u001b[0m\n\u001b[1;32m    218\u001b[0m \u001b[0;32mdef\u001b[0m \u001b[0minstall_opener\u001b[0m\u001b[0;34m(\u001b[0m\u001b[0mopener\u001b[0m\u001b[0;34m)\u001b[0m\u001b[0;34m:\u001b[0m\u001b[0;34m\u001b[0m\u001b[0;34m\u001b[0m\u001b[0m\n",
            "\u001b[0;32m/usr/lib/python3.11/urllib/request.py\u001b[0m in \u001b[0;36mopen\u001b[0;34m(self, fullurl, data, timeout)\u001b[0m\n\u001b[1;32m    523\u001b[0m         \u001b[0;32mfor\u001b[0m \u001b[0mprocessor\u001b[0m \u001b[0;32min\u001b[0m \u001b[0mself\u001b[0m\u001b[0;34m.\u001b[0m\u001b[0mprocess_response\u001b[0m\u001b[0;34m.\u001b[0m\u001b[0mget\u001b[0m\u001b[0;34m(\u001b[0m\u001b[0mprotocol\u001b[0m\u001b[0;34m,\u001b[0m \u001b[0;34m[\u001b[0m\u001b[0;34m]\u001b[0m\u001b[0;34m)\u001b[0m\u001b[0;34m:\u001b[0m\u001b[0;34m\u001b[0m\u001b[0;34m\u001b[0m\u001b[0m\n\u001b[1;32m    524\u001b[0m             \u001b[0mmeth\u001b[0m \u001b[0;34m=\u001b[0m \u001b[0mgetattr\u001b[0m\u001b[0;34m(\u001b[0m\u001b[0mprocessor\u001b[0m\u001b[0;34m,\u001b[0m \u001b[0mmeth_name\u001b[0m\u001b[0;34m)\u001b[0m\u001b[0;34m\u001b[0m\u001b[0;34m\u001b[0m\u001b[0m\n\u001b[0;32m--> 525\u001b[0;31m             \u001b[0mresponse\u001b[0m \u001b[0;34m=\u001b[0m \u001b[0mmeth\u001b[0m\u001b[0;34m(\u001b[0m\u001b[0mreq\u001b[0m\u001b[0;34m,\u001b[0m \u001b[0mresponse\u001b[0m\u001b[0;34m)\u001b[0m\u001b[0;34m\u001b[0m\u001b[0;34m\u001b[0m\u001b[0m\n\u001b[0m\u001b[1;32m    526\u001b[0m \u001b[0;34m\u001b[0m\u001b[0m\n\u001b[1;32m    527\u001b[0m         \u001b[0;32mreturn\u001b[0m \u001b[0mresponse\u001b[0m\u001b[0;34m\u001b[0m\u001b[0;34m\u001b[0m\u001b[0m\n",
            "\u001b[0;32m/usr/lib/python3.11/urllib/request.py\u001b[0m in \u001b[0;36mhttp_response\u001b[0;34m(self, request, response)\u001b[0m\n\u001b[1;32m    632\u001b[0m         \u001b[0;31m# request was successfully received, understood, and accepted.\u001b[0m\u001b[0;34m\u001b[0m\u001b[0;34m\u001b[0m\u001b[0m\n\u001b[1;32m    633\u001b[0m         \u001b[0;32mif\u001b[0m \u001b[0;32mnot\u001b[0m \u001b[0;34m(\u001b[0m\u001b[0;36m200\u001b[0m \u001b[0;34m<=\u001b[0m \u001b[0mcode\u001b[0m \u001b[0;34m<\u001b[0m \u001b[0;36m300\u001b[0m\u001b[0;34m)\u001b[0m\u001b[0;34m:\u001b[0m\u001b[0;34m\u001b[0m\u001b[0;34m\u001b[0m\u001b[0m\n\u001b[0;32m--> 634\u001b[0;31m             response = self.parent.error(\n\u001b[0m\u001b[1;32m    635\u001b[0m                 'http', request, response, code, msg, hdrs)\n\u001b[1;32m    636\u001b[0m \u001b[0;34m\u001b[0m\u001b[0m\n",
            "\u001b[0;32m/usr/lib/python3.11/urllib/request.py\u001b[0m in \u001b[0;36merror\u001b[0;34m(self, proto, *args)\u001b[0m\n\u001b[1;32m    561\u001b[0m         \u001b[0;32mif\u001b[0m \u001b[0mhttp_err\u001b[0m\u001b[0;34m:\u001b[0m\u001b[0;34m\u001b[0m\u001b[0;34m\u001b[0m\u001b[0m\n\u001b[1;32m    562\u001b[0m             \u001b[0margs\u001b[0m \u001b[0;34m=\u001b[0m \u001b[0;34m(\u001b[0m\u001b[0mdict\u001b[0m\u001b[0;34m,\u001b[0m \u001b[0;34m'default'\u001b[0m\u001b[0;34m,\u001b[0m \u001b[0;34m'http_error_default'\u001b[0m\u001b[0;34m)\u001b[0m \u001b[0;34m+\u001b[0m \u001b[0morig_args\u001b[0m\u001b[0;34m\u001b[0m\u001b[0;34m\u001b[0m\u001b[0m\n\u001b[0;32m--> 563\u001b[0;31m             \u001b[0;32mreturn\u001b[0m \u001b[0mself\u001b[0m\u001b[0;34m.\u001b[0m\u001b[0m_call_chain\u001b[0m\u001b[0;34m(\u001b[0m\u001b[0;34m*\u001b[0m\u001b[0margs\u001b[0m\u001b[0;34m)\u001b[0m\u001b[0;34m\u001b[0m\u001b[0;34m\u001b[0m\u001b[0m\n\u001b[0m\u001b[1;32m    564\u001b[0m \u001b[0;34m\u001b[0m\u001b[0m\n\u001b[1;32m    565\u001b[0m \u001b[0;31m# XXX probably also want an abstract factory that knows when it makes\u001b[0m\u001b[0;34m\u001b[0m\u001b[0;34m\u001b[0m\u001b[0m\n",
            "\u001b[0;32m/usr/lib/python3.11/urllib/request.py\u001b[0m in \u001b[0;36m_call_chain\u001b[0;34m(self, chain, kind, meth_name, *args)\u001b[0m\n\u001b[1;32m    494\u001b[0m         \u001b[0;32mfor\u001b[0m \u001b[0mhandler\u001b[0m \u001b[0;32min\u001b[0m \u001b[0mhandlers\u001b[0m\u001b[0;34m:\u001b[0m\u001b[0;34m\u001b[0m\u001b[0;34m\u001b[0m\u001b[0m\n\u001b[1;32m    495\u001b[0m             \u001b[0mfunc\u001b[0m \u001b[0;34m=\u001b[0m \u001b[0mgetattr\u001b[0m\u001b[0;34m(\u001b[0m\u001b[0mhandler\u001b[0m\u001b[0;34m,\u001b[0m \u001b[0mmeth_name\u001b[0m\u001b[0;34m)\u001b[0m\u001b[0;34m\u001b[0m\u001b[0;34m\u001b[0m\u001b[0m\n\u001b[0;32m--> 496\u001b[0;31m             \u001b[0mresult\u001b[0m \u001b[0;34m=\u001b[0m \u001b[0mfunc\u001b[0m\u001b[0;34m(\u001b[0m\u001b[0;34m*\u001b[0m\u001b[0margs\u001b[0m\u001b[0;34m)\u001b[0m\u001b[0;34m\u001b[0m\u001b[0;34m\u001b[0m\u001b[0m\n\u001b[0m\u001b[1;32m    497\u001b[0m             \u001b[0;32mif\u001b[0m \u001b[0mresult\u001b[0m \u001b[0;32mis\u001b[0m \u001b[0;32mnot\u001b[0m \u001b[0;32mNone\u001b[0m\u001b[0;34m:\u001b[0m\u001b[0;34m\u001b[0m\u001b[0;34m\u001b[0m\u001b[0m\n\u001b[1;32m    498\u001b[0m                 \u001b[0;32mreturn\u001b[0m \u001b[0mresult\u001b[0m\u001b[0;34m\u001b[0m\u001b[0;34m\u001b[0m\u001b[0m\n",
            "\u001b[0;32m/usr/lib/python3.11/urllib/request.py\u001b[0m in \u001b[0;36mhttp_error_default\u001b[0;34m(self, req, fp, code, msg, hdrs)\u001b[0m\n\u001b[1;32m    641\u001b[0m \u001b[0;32mclass\u001b[0m \u001b[0mHTTPDefaultErrorHandler\u001b[0m\u001b[0;34m(\u001b[0m\u001b[0mBaseHandler\u001b[0m\u001b[0;34m)\u001b[0m\u001b[0;34m:\u001b[0m\u001b[0;34m\u001b[0m\u001b[0;34m\u001b[0m\u001b[0m\n\u001b[1;32m    642\u001b[0m     \u001b[0;32mdef\u001b[0m \u001b[0mhttp_error_default\u001b[0m\u001b[0;34m(\u001b[0m\u001b[0mself\u001b[0m\u001b[0;34m,\u001b[0m \u001b[0mreq\u001b[0m\u001b[0;34m,\u001b[0m \u001b[0mfp\u001b[0m\u001b[0;34m,\u001b[0m \u001b[0mcode\u001b[0m\u001b[0;34m,\u001b[0m \u001b[0mmsg\u001b[0m\u001b[0;34m,\u001b[0m \u001b[0mhdrs\u001b[0m\u001b[0;34m)\u001b[0m\u001b[0;34m:\u001b[0m\u001b[0;34m\u001b[0m\u001b[0;34m\u001b[0m\u001b[0m\n\u001b[0;32m--> 643\u001b[0;31m         \u001b[0;32mraise\u001b[0m \u001b[0mHTTPError\u001b[0m\u001b[0;34m(\u001b[0m\u001b[0mreq\u001b[0m\u001b[0;34m.\u001b[0m\u001b[0mfull_url\u001b[0m\u001b[0;34m,\u001b[0m \u001b[0mcode\u001b[0m\u001b[0;34m,\u001b[0m \u001b[0mmsg\u001b[0m\u001b[0;34m,\u001b[0m \u001b[0mhdrs\u001b[0m\u001b[0;34m,\u001b[0m \u001b[0mfp\u001b[0m\u001b[0;34m)\u001b[0m\u001b[0;34m\u001b[0m\u001b[0;34m\u001b[0m\u001b[0m\n\u001b[0m\u001b[1;32m    644\u001b[0m \u001b[0;34m\u001b[0m\u001b[0m\n\u001b[1;32m    645\u001b[0m \u001b[0;32mclass\u001b[0m \u001b[0mHTTPRedirectHandler\u001b[0m\u001b[0;34m(\u001b[0m\u001b[0mBaseHandler\u001b[0m\u001b[0;34m)\u001b[0m\u001b[0;34m:\u001b[0m\u001b[0;34m\u001b[0m\u001b[0;34m\u001b[0m\u001b[0m\n",
            "\u001b[0;31mHTTPError\u001b[0m: HTTP Error 404: Not Found"
          ]
        }
      ]
    },
    {
      "cell_type": "markdown",
      "source": [
        "## Individual dataframes for each worksheet"
      ],
      "metadata": {
        "id": "COB1WHRbsnBm"
      }
    },
    {
      "cell_type": "markdown",
      "source": [
        "# Data Engineering 101: control the format of Dates and Times"
      ],
      "metadata": {
        "id": "Z0Jl7G8jXcFz"
      }
    },
    {
      "cell_type": "code",
      "source": [
        "aus_cpi_quarter = dgea['AUS_CPI_QUARTER']\n",
        "aus_cpi_quarter"
      ],
      "metadata": {
        "id": "ZPRi2PE-QSPr",
        "outputId": "9d8af597-b488-49ab-c114-c1226a6d66b6",
        "colab": {
          "base_uri": "https://localhost:8080/",
          "height": 159
        }
      },
      "execution_count": 14,
      "outputs": [
        {
          "output_type": "error",
          "ename": "NameError",
          "evalue": "name 'dgea' is not defined",
          "traceback": [
            "\u001b[0;31m---------------------------------------------------------------------------\u001b[0m",
            "\u001b[0;31mNameError\u001b[0m                                 Traceback (most recent call last)",
            "\u001b[0;32m<ipython-input-14-9690c4092501>\u001b[0m in \u001b[0;36m<cell line: 0>\u001b[0;34m()\u001b[0m\n\u001b[0;32m----> 1\u001b[0;31m \u001b[0maus_cpi_quarter\u001b[0m \u001b[0;34m=\u001b[0m \u001b[0mdgea\u001b[0m\u001b[0;34m[\u001b[0m\u001b[0;34m'AUS_CPI_QUARTER'\u001b[0m\u001b[0;34m]\u001b[0m\u001b[0;34m\u001b[0m\u001b[0;34m\u001b[0m\u001b[0m\n\u001b[0m\u001b[1;32m      2\u001b[0m \u001b[0maus_cpi_quarter\u001b[0m\u001b[0;34m\u001b[0m\u001b[0;34m\u001b[0m\u001b[0m\n",
            "\u001b[0;31mNameError\u001b[0m: name 'dgea' is not defined"
          ]
        }
      ]
    },
    {
      "cell_type": "code",
      "source": [
        "# get info - note the datatypes\n",
        "aus_cpi_quarter.info()"
      ],
      "metadata": {
        "id": "z78tfzdCYyQx",
        "outputId": "c72b9bc5-4645-499b-e6b1-754f8365396f",
        "colab": {
          "base_uri": "https://localhost:8080/",
          "height": 159
        }
      },
      "execution_count": 15,
      "outputs": [
        {
          "output_type": "error",
          "ename": "NameError",
          "evalue": "name 'aus_cpi_quarter' is not defined",
          "traceback": [
            "\u001b[0;31m---------------------------------------------------------------------------\u001b[0m",
            "\u001b[0;31mNameError\u001b[0m                                 Traceback (most recent call last)",
            "\u001b[0;32m<ipython-input-15-581e0083240e>\u001b[0m in \u001b[0;36m<cell line: 0>\u001b[0;34m()\u001b[0m\n\u001b[1;32m      1\u001b[0m \u001b[0;31m# get info - note the datatypes\u001b[0m\u001b[0;34m\u001b[0m\u001b[0;34m\u001b[0m\u001b[0m\n\u001b[0;32m----> 2\u001b[0;31m \u001b[0maus_cpi_quarter\u001b[0m\u001b[0;34m.\u001b[0m\u001b[0minfo\u001b[0m\u001b[0;34m(\u001b[0m\u001b[0;34m)\u001b[0m\u001b[0;34m\u001b[0m\u001b[0;34m\u001b[0m\u001b[0m\n\u001b[0m",
            "\u001b[0;31mNameError\u001b[0m: name 'aus_cpi_quarter' is not defined"
          ]
        }
      ]
    },
    {
      "cell_type": "code",
      "source": [
        "# make datetime index\n",
        "aus_cpi_quarter = aus_cpi_quarter.set_index(aus_cpi_quarter['Datetime'])\n",
        "aus_cpi_quarter"
      ],
      "metadata": {
        "id": "0k17pM71rCAn",
        "outputId": "b7d5d9c3-af64-432b-bb85-af1008e485fc",
        "colab": {
          "base_uri": "https://localhost:8080/",
          "height": 176
        }
      },
      "execution_count": 16,
      "outputs": [
        {
          "output_type": "error",
          "ename": "NameError",
          "evalue": "name 'aus_cpi_quarter' is not defined",
          "traceback": [
            "\u001b[0;31m---------------------------------------------------------------------------\u001b[0m",
            "\u001b[0;31mNameError\u001b[0m                                 Traceback (most recent call last)",
            "\u001b[0;32m<ipython-input-16-51e912fe69bb>\u001b[0m in \u001b[0;36m<cell line: 0>\u001b[0;34m()\u001b[0m\n\u001b[1;32m      1\u001b[0m \u001b[0;31m# make datetime index\u001b[0m\u001b[0;34m\u001b[0m\u001b[0;34m\u001b[0m\u001b[0m\n\u001b[0;32m----> 2\u001b[0;31m \u001b[0maus_cpi_quarter\u001b[0m \u001b[0;34m=\u001b[0m \u001b[0maus_cpi_quarter\u001b[0m\u001b[0;34m.\u001b[0m\u001b[0mset_index\u001b[0m\u001b[0;34m(\u001b[0m\u001b[0maus_cpi_quarter\u001b[0m\u001b[0;34m[\u001b[0m\u001b[0;34m'Datetime'\u001b[0m\u001b[0;34m]\u001b[0m\u001b[0;34m)\u001b[0m\u001b[0;34m\u001b[0m\u001b[0;34m\u001b[0m\u001b[0m\n\u001b[0m\u001b[1;32m      3\u001b[0m \u001b[0maus_cpi_quarter\u001b[0m\u001b[0;34m\u001b[0m\u001b[0;34m\u001b[0m\u001b[0m\n",
            "\u001b[0;31mNameError\u001b[0m: name 'aus_cpi_quarter' is not defined"
          ]
        }
      ]
    },
    {
      "cell_type": "code",
      "source": [
        "# we can now drop the Datetime column - since it is now the index into each observations\n",
        "aus_cpi_quarter.drop(columns='Datetime', inplace=True)\n",
        "aus_cpi_quarter"
      ],
      "metadata": {
        "id": "9C1Nf36KIixN",
        "outputId": "c799c678-12d3-4b59-de53-8f39b7bd2aa3",
        "colab": {
          "base_uri": "https://localhost:8080/",
          "height": 176
        }
      },
      "execution_count": 17,
      "outputs": [
        {
          "output_type": "error",
          "ename": "NameError",
          "evalue": "name 'aus_cpi_quarter' is not defined",
          "traceback": [
            "\u001b[0;31m---------------------------------------------------------------------------\u001b[0m",
            "\u001b[0;31mNameError\u001b[0m                                 Traceback (most recent call last)",
            "\u001b[0;32m<ipython-input-17-bbbc214dab31>\u001b[0m in \u001b[0;36m<cell line: 0>\u001b[0;34m()\u001b[0m\n\u001b[1;32m      1\u001b[0m \u001b[0;31m# we can now drop the Datetime column - since it is now the index into each observations\u001b[0m\u001b[0;34m\u001b[0m\u001b[0;34m\u001b[0m\u001b[0m\n\u001b[0;32m----> 2\u001b[0;31m \u001b[0maus_cpi_quarter\u001b[0m\u001b[0;34m.\u001b[0m\u001b[0mdrop\u001b[0m\u001b[0;34m(\u001b[0m\u001b[0mcolumns\u001b[0m\u001b[0;34m=\u001b[0m\u001b[0;34m'Datetime'\u001b[0m\u001b[0;34m,\u001b[0m \u001b[0minplace\u001b[0m\u001b[0;34m=\u001b[0m\u001b[0;32mTrue\u001b[0m\u001b[0;34m)\u001b[0m\u001b[0;34m\u001b[0m\u001b[0;34m\u001b[0m\u001b[0m\n\u001b[0m\u001b[1;32m      3\u001b[0m \u001b[0maus_cpi_quarter\u001b[0m\u001b[0;34m\u001b[0m\u001b[0;34m\u001b[0m\u001b[0m\n",
            "\u001b[0;31mNameError\u001b[0m: name 'aus_cpi_quarter' is not defined"
          ]
        }
      ]
    },
    {
      "cell_type": "markdown",
      "source": [
        "# The following examples show how to change the format of the datetimes"
      ],
      "metadata": {
        "id": "58t7yoLzLD59"
      }
    },
    {
      "cell_type": "code",
      "source": [
        "from datetime import datetime\n",
        "\n",
        "# Input date in YYYY-MM-DD format\n",
        "input_date_str = \"2023-10-24\"\n",
        "\n",
        "# Convert the input date string to a datetime object\n",
        "input_date = datetime.strptime(input_date_str, \"%Y-%m-%d\")\n",
        "\n",
        "# Format the date as DD-MM-YYYY\n",
        "output_date_str = input_date.strftime(\"%d-%m-%Y\")\n",
        "\n",
        "print(\"Input Date (YYYY-MM-DD):\", input_date_str)\n",
        "print(\"Output Date (DD-MM-YYYY):\", output_date_str)"
      ],
      "metadata": {
        "id": "ZzMw7sc8J0uB"
      },
      "execution_count": null,
      "outputs": []
    },
    {
      "cell_type": "markdown",
      "source": [
        "# And if Datetime is an index to observations"
      ],
      "metadata": {
        "id": "WCkzFh0FZ3CW"
      }
    },
    {
      "cell_type": "code",
      "source": [
        "import pandas as pd\n",
        "\n",
        "# Sample DataFrame with dates as the index\n",
        "data = {'value': [10, 20, 30, 40],\n",
        "        'date': ['2023-01-15', '2023-02-20', '2023-03-25', '2023-04-30']}\n",
        "\n",
        "df = pd.DataFrame(data)\n",
        "df['date'] = pd.to_datetime(df['date'])  # Convert the 'date' column to datetime format\n",
        "df.set_index('date', inplace=True)  # Set the 'date' column as the index\n",
        "\n",
        "# Transform the date format from YYYY-MM-DD to DD-MM-YYYY\n",
        "df.index = df.index.strftime('%d-%m-%Y')\n",
        "\n",
        "# Print the transformed DataFrame\n",
        "df"
      ],
      "metadata": {
        "id": "XxYMZ-bBKOym"
      },
      "execution_count": null,
      "outputs": []
    },
    {
      "cell_type": "code",
      "source": [
        "# Transform the date format from YYYY-MM-DD to DD-MM-YYYY\n",
        "# aus_cpi_quarter.index = aus_cpi_quarter.index.strftime('%d-%m-%Y')\n",
        "# aus_cpi_quarter"
      ],
      "metadata": {
        "id": "yD6I5LsLLOmU"
      },
      "execution_count": null,
      "outputs": []
    },
    {
      "cell_type": "code",
      "source": [
        "aus_cpi_quarter.index"
      ],
      "metadata": {
        "id": "lOpD2G0HL5YL"
      },
      "execution_count": null,
      "outputs": []
    },
    {
      "cell_type": "markdown",
      "source": [
        "## Now that datetime is the index to all observed events (and their measures or values), we can create a window into the period of interest."
      ],
      "metadata": {
        "id": "4rovT4cuXowh"
      }
    },
    {
      "cell_type": "code",
      "source": [
        "start_date = '2021-12-31'\n",
        "end_date = '2024-03-31'"
      ],
      "metadata": {
        "id": "QoNk89xIrvlZ"
      },
      "execution_count": null,
      "outputs": []
    },
    {
      "cell_type": "code",
      "source": [
        "temp = aus_cpi_quarter.loc[start_date:end_date]\n",
        "temp"
      ],
      "metadata": {
        "id": "5MsblvE5rQnE"
      },
      "execution_count": null,
      "outputs": []
    },
    {
      "cell_type": "code",
      "source": [
        "temp2 = aus_cpi_quarter.loc[aus_cpi_quarter.index > '2000']\n",
        "temp2"
      ],
      "metadata": {
        "id": "FoIWaP-ss0KQ"
      },
      "execution_count": null,
      "outputs": []
    },
    {
      "cell_type": "markdown",
      "source": [
        "# Australian Inflation Rate (Monthly)"
      ],
      "metadata": {
        "id": "VjSxWWhTF89x"
      }
    },
    {
      "cell_type": "code",
      "source": [
        "aus_cpi_monthly = dgea['AUS_CPI_MONTHLY']\n",
        "aus_cpi_monthly"
      ],
      "metadata": {
        "id": "sUynDdajQegW"
      },
      "execution_count": null,
      "outputs": []
    },
    {
      "cell_type": "code",
      "source": [
        "aus_cpi_monthly.info()"
      ],
      "metadata": {
        "id": "bPvQi9wcY8q9"
      },
      "execution_count": null,
      "outputs": []
    },
    {
      "cell_type": "code",
      "source": [
        "aus_cpi_monthly = aus_cpi_monthly.set_index(aus_cpi_monthly['Datetime'], )\n",
        "aus_cpi_monthly.drop(columns='Datetime', inplace=True)\n",
        "aus_cpi_monthly"
      ],
      "metadata": {
        "id": "kwu6kvHAuE3J"
      },
      "execution_count": null,
      "outputs": []
    },
    {
      "cell_type": "code",
      "source": [
        "aus_cpi_monthly[start_date:end_date]"
      ],
      "metadata": {
        "id": "8SgbFmsGev1T"
      },
      "execution_count": null,
      "outputs": []
    },
    {
      "cell_type": "code",
      "source": [
        "aus_money = dgea['AUS_MONEY']\n",
        "aus_money"
      ],
      "metadata": {
        "id": "lLkLnvCNQmkh"
      },
      "execution_count": null,
      "outputs": []
    },
    {
      "cell_type": "code",
      "source": [
        "aus_money.info()"
      ],
      "metadata": {
        "id": "SsWJ7q06ZAF-"
      },
      "execution_count": null,
      "outputs": []
    },
    {
      "cell_type": "code",
      "source": [
        "aus_money = aus_money.set_index(aus_money['Datetime'])\n",
        "aus_money.drop(columns='Datetime', inplace=True)\n",
        "aus_money"
      ],
      "metadata": {
        "id": "zqZJxD1Ht7S5"
      },
      "execution_count": null,
      "outputs": []
    },
    {
      "cell_type": "code",
      "source": [
        "aus_money[start_date:end_date]"
      ],
      "metadata": {
        "id": "wehJFgPyuvI2"
      },
      "execution_count": null,
      "outputs": []
    },
    {
      "cell_type": "markdown",
      "source": [
        "# Cash Rate Target (Quarterly)"
      ],
      "metadata": {
        "id": "PAwcKyFMxI7V"
      }
    },
    {
      "cell_type": "code",
      "source": [
        "aus_cashrate = dgea['AUS_CASHRATE']\n",
        "aus_cashrate = aus_cashrate.set_index(aus_cashrate['Datetime'])\n",
        "aus_cashrate = aus_cashrate.drop(columns='Datetime')\n",
        "aus_cashrate"
      ],
      "metadata": {
        "id": "5UY47odtQrs3"
      },
      "execution_count": null,
      "outputs": []
    },
    {
      "cell_type": "code",
      "source": [
        "aus_cashrate[start_date:end_date]"
      ],
      "metadata": {
        "id": "B4a60GqwZEv5"
      },
      "execution_count": null,
      "outputs": []
    },
    {
      "cell_type": "markdown",
      "source": [
        "# Australian Employment-to-Population Percentage"
      ],
      "metadata": {
        "id": "YJHAYiugx8ON"
      }
    },
    {
      "cell_type": "code",
      "source": [
        "aus_employ_topop = dgea['AUS_EMPLOY_TOPOP']\n",
        "aus_employ_topop = aus_employ_topop.set_index(aus_employ_topop['Datetime'])\n",
        "aus_employ_topop = aus_employ_topop.drop(columns='Datetime')\n",
        "aus_employ_topop"
      ],
      "metadata": {
        "id": "PVAqFWiyQ6Hj"
      },
      "execution_count": null,
      "outputs": []
    },
    {
      "cell_type": "code",
      "source": [
        "aus_gni = dgea['AUS_GNI']\n",
        "aus_gni"
      ],
      "metadata": {
        "id": "sBUCsNvCzOTH"
      },
      "execution_count": null,
      "outputs": []
    },
    {
      "cell_type": "code",
      "source": [
        "aus_gni.info()"
      ],
      "metadata": {
        "id": "Q3Ep-h6WytzJ"
      },
      "execution_count": null,
      "outputs": []
    },
    {
      "cell_type": "markdown",
      "source": [
        "## For Australian GNI - note that the Datetime is an integer (number) and not yet a datetime object."
      ],
      "metadata": {
        "id": "O4KxponS6U3V"
      }
    },
    {
      "cell_type": "code",
      "source": [
        "aus_gni['Datetime'] = pd.to_datetime(aus_gni['Datetime'], format='%Y', dayfirst = False)\n",
        "aus_gni['Datetime']"
      ],
      "metadata": {
        "id": "kI_GIk7F6UNs"
      },
      "execution_count": null,
      "outputs": []
    },
    {
      "cell_type": "code",
      "source": [
        "aus_gni = aus_gni.set_index(aus_gni['Datetime'])\n",
        "aus_gni.drop(columns='Datetime', inplace=True)\n",
        "aus_gni"
      ],
      "metadata": {
        "id": "JU1Vf9W9p0my"
      },
      "execution_count": null,
      "outputs": []
    },
    {
      "cell_type": "code",
      "source": [
        "aus_gni['2000':'2021-01-01']"
      ],
      "metadata": {
        "id": "kvzfwZU3qGWi"
      },
      "execution_count": null,
      "outputs": []
    },
    {
      "cell_type": "code",
      "source": [
        "aus_unemploy_participation_rate = dgea['AUS_UNEMPLOY_PARTICPATION_RATE']\n",
        "aus_unemploy_participation_rate = aus_unemploy_participation_rate.set_index(aus_unemploy_participation_rate['Datetime'])\n",
        "aus_unemploy_participation_rate.drop(columns='Datetime', inplace=True)\n",
        "aus_unemploy_participation_rate"
      ],
      "metadata": {
        "id": "9jd2jK5eRHHE"
      },
      "execution_count": null,
      "outputs": []
    },
    {
      "cell_type": "code",
      "source": [
        "aus_unemploy_participation_rate[start_date:end_date]"
      ],
      "metadata": {
        "id": "7Depf5ZD4JxR"
      },
      "execution_count": null,
      "outputs": []
    },
    {
      "cell_type": "code",
      "source": [
        "copper = dgea['COPPER']\n",
        "copper = copper.set_index(copper['Date'])\n",
        "copper.drop(columns='Date', inplace=True)\n",
        "copper[start_date:end_date]"
      ],
      "metadata": {
        "id": "YXQ4-d5XRamS"
      },
      "execution_count": null,
      "outputs": []
    },
    {
      "cell_type": "code",
      "source": [
        "crude = dgea['CRUDEOIL']\n",
        "crude"
      ],
      "metadata": {
        "id": "ggG7Q0UZ4434"
      },
      "execution_count": null,
      "outputs": []
    },
    {
      "cell_type": "code",
      "source": [
        "crude.info()"
      ],
      "metadata": {
        "id": "s1DJC18q5Ujd"
      },
      "execution_count": null,
      "outputs": []
    },
    {
      "cell_type": "code",
      "source": [
        "crude = dgea['CRUDEOIL']\n",
        "crude = crude.set_index(crude['Date'])\n",
        "crude.drop(columns='Date', inplace=True)"
      ],
      "metadata": {
        "id": "59HDPBebRd8G"
      },
      "execution_count": null,
      "outputs": []
    },
    {
      "cell_type": "code",
      "source": [
        "crude[start_date:end_date]"
      ],
      "metadata": {
        "id": "dW2I4FGJ5iDT"
      },
      "execution_count": null,
      "outputs": []
    },
    {
      "cell_type": "code",
      "source": [
        "real_gdp = dgea['REALGDP']\n",
        "real_gdp"
      ],
      "metadata": {
        "id": "bRm1BSgxVEwo"
      },
      "execution_count": null,
      "outputs": []
    },
    {
      "cell_type": "code",
      "source": [
        "real_gdp.info()"
      ],
      "metadata": {
        "id": "sNIh-K7nVVnA"
      },
      "execution_count": null,
      "outputs": []
    },
    {
      "cell_type": "code",
      "source": [
        "real_gdp['Datetime'] = pd.to_datetime(real_gdp['Datetime'], format='%Y', dayfirst = False)\n",
        "real_gdp['Datetime']"
      ],
      "metadata": {
        "id": "O-mFa_Zc7uo_"
      },
      "execution_count": null,
      "outputs": []
    },
    {
      "cell_type": "code",
      "source": [
        "real_gdp = real_gdp.set_index(real_gdp['Datetime'])\n",
        "real_gdp.drop(columns='Datetime', inplace=True)\n",
        "real_gdp"
      ],
      "metadata": {
        "id": "WKC4HIoxVr5y"
      },
      "execution_count": null,
      "outputs": []
    },
    {
      "cell_type": "code",
      "source": [
        "silver = dgea['SILVER']\n",
        "silver"
      ],
      "metadata": {
        "id": "FDP6Rs1WV1oc"
      },
      "execution_count": null,
      "outputs": []
    },
    {
      "cell_type": "code",
      "source": [
        "silver = silver.set_index(silver['Date'])\n",
        "silver.drop(columns='Date', inplace=True)\n",
        "silver"
      ],
      "metadata": {
        "id": "8Fp3q1amV5pK"
      },
      "execution_count": null,
      "outputs": []
    },
    {
      "cell_type": "code",
      "source": [
        "gold = dgea['GOLDYAHOO']\n",
        "gold"
      ],
      "metadata": {
        "id": "XBwgCfoCWDxl"
      },
      "execution_count": null,
      "outputs": []
    },
    {
      "cell_type": "code",
      "source": [
        "gold.info()"
      ],
      "metadata": {
        "id": "D-W4RhGS75Vk"
      },
      "execution_count": null,
      "outputs": []
    },
    {
      "cell_type": "code",
      "source": [
        "# Convert the 'date strings' column to datetime\n",
        "gold['Date'] = pd.to_datetime(gold['Date'], format='%b %d, %Y')\n",
        "gold['Date']"
      ],
      "metadata": {
        "id": "B5oPqu158LN1"
      },
      "execution_count": null,
      "outputs": []
    },
    {
      "cell_type": "code",
      "source": [
        "gold = gold.set_index(gold['Date'])\n",
        "gold.drop(columns='Date', inplace=True)\n",
        "gold"
      ],
      "metadata": {
        "id": "30vIUvG2WOtS"
      },
      "execution_count": null,
      "outputs": []
    },
    {
      "cell_type": "code",
      "source": [
        "gold.info()"
      ],
      "metadata": {
        "id": "ndGc6eOXWXgC"
      },
      "execution_count": null,
      "outputs": []
    },
    {
      "cell_type": "code",
      "source": [
        "gold.index"
      ],
      "metadata": {
        "id": "b0R__tEKWbIC"
      },
      "execution_count": null,
      "outputs": []
    },
    {
      "cell_type": "code",
      "source": [],
      "metadata": {
        "id": "NAMpxzo8WhxA"
      },
      "execution_count": null,
      "outputs": []
    },
    {
      "cell_type": "markdown",
      "source": [
        "## The following are examples on how to merge dataframes together"
      ],
      "metadata": {
        "id": "qQQlNjRMYUTI"
      }
    },
    {
      "cell_type": "code",
      "source": [
        "import pandas as pd\n",
        "\n",
        "# Sample DataFrames with datetime indices\n",
        "data1 = {'value1': [10, 20, 30, 40], 'value2': [100, 200, 300, 400]}\n",
        "data2 = {'value3': [50, 60, 70, 80], 'value4': [500, 600, 700, 800]}\n",
        "index = pd.to_datetime(['2023-10-01', '2023-10-02', '2023-10-03', '2023-10-04'])\n",
        "\n",
        "df1 = pd.DataFrame(data1, index=index)\n",
        "df2 = pd.DataFrame(data2, index=index)\n",
        "\n",
        "# Merge the DataFrames with 'outer' join to include all dates\n",
        "merged_df = df1.merge(df2, left_index=True, right_index=True, how='outer')\n",
        "\n",
        "print(merged_df)"
      ],
      "metadata": {
        "id": "6VYXY1wj6Ahy"
      },
      "execution_count": null,
      "outputs": []
    },
    {
      "cell_type": "code",
      "source": [
        "import pandas as pd\n",
        "\n",
        "# Sample DataFrames with datetime indices\n",
        "data1 = {'value1': [10, 20, 30, 40], 'value2': [100, 200, 300, 400]}\n",
        "data2 = {'value3': [50, 60, 70, 80], 'value4': [500, 600, 700, 800]}\n",
        "index1 = pd.to_datetime(['2023-10-01', '2023-10-02', '2023-10-03', '2023-10-04'])\n",
        "index2 = pd.to_datetime(['2023-10-02', '2023-10-03', '2023-10-04', '2023-10-05'])\n",
        "\n",
        "df1 = pd.DataFrame(data1, index=index1)\n",
        "df2 = pd.DataFrame(data2, index=index2)\n",
        "\n",
        "# Merge the DataFrames with 'inner' join to include only the common dates\n",
        "merged_df = df1.merge(df2, left_index=True, right_index=True, how='inner')\n",
        "\n",
        "print(merged_df)"
      ],
      "metadata": {
        "id": "w09Jn5G26QV5"
      },
      "execution_count": null,
      "outputs": []
    },
    {
      "cell_type": "markdown",
      "source": [
        "# Combine Dataframes"
      ],
      "metadata": {
        "id": "yYXkuecBFm5j"
      }
    },
    {
      "cell_type": "code",
      "source": [
        "import pandas as pd\n",
        "\n",
        "# Sample DataFrames with datetime indices\n",
        "data1 = {'value1': [10, 20, 30, 40], 'value2': [100, 200, 300, 400]}\n",
        "data2 = {'value3': [50, 60, 70, 80], 'value4': [500, 600, 700, 800]}\n",
        "index1 = pd.to_datetime(['2023-10-01', '2023-10-02', '2023-10-03', '2023-10-04'])\n",
        "index2 = pd.to_datetime(['2023-10-02', '2023-10-03', '2023-10-04', '2023-10-05'])\n",
        "\n",
        "df1 = pd.DataFrame(data1, index=index1)\n",
        "df2 = pd.DataFrame(data2, index=index2)\n",
        "\n",
        "# Merge the DataFrames and fill missing data with zeros\n",
        "merged_df = df1.combine_first(df2).fillna(0)\n",
        "\n",
        "print(merged_df)"
      ],
      "metadata": {
        "id": "CqvQnb4s6hDn"
      },
      "execution_count": null,
      "outputs": []
    },
    {
      "cell_type": "markdown",
      "source": [
        "## Lets continue with data transformation"
      ],
      "metadata": {
        "id": "VyKo1YEr8oG6"
      }
    },
    {
      "cell_type": "code",
      "source": [
        "fedsfund = dgea['FEDFUNDRATE']\n",
        "fedsfund = fedsfund.set_index(fedsfund['Datetime'])\n",
        "fedsfund.drop(columns='Datetime', inplace=True)"
      ],
      "metadata": {
        "id": "bOrIM-64RhPA"
      },
      "execution_count": null,
      "outputs": []
    },
    {
      "cell_type": "code",
      "source": [
        "fedsfund[start_date:end_date]"
      ],
      "metadata": {
        "id": "27fsnDpe7kj7"
      },
      "execution_count": null,
      "outputs": []
    },
    {
      "cell_type": "code",
      "source": [
        "global_debt_gdp = dgea['GLOBAL-DEBT-GDP']\n",
        "global_debt_gdp"
      ],
      "metadata": {
        "id": "VglVeDzL8C_C"
      },
      "execution_count": null,
      "outputs": []
    },
    {
      "cell_type": "code",
      "source": [
        "global_debt_gdp.info()"
      ],
      "metadata": {
        "id": "DYa4R14Q8HZV"
      },
      "execution_count": null,
      "outputs": []
    },
    {
      "cell_type": "markdown",
      "source": [
        "## Global Debt to GDP - we will not use this; However, you may want to include one or two for Assessment #3."
      ],
      "metadata": {
        "id": "VNBA6m7M8yHu"
      }
    },
    {
      "cell_type": "code",
      "source": [
        "import datetime\n",
        "\n",
        "global_debt_gdp['Datetime'] = pd.to_datetime(global_debt_gdp['Datetime'], dayfirst=False, format='%Y')\n",
        "global_debt_gdp"
      ],
      "metadata": {
        "id": "prcCon0wrC5b"
      },
      "execution_count": null,
      "outputs": []
    },
    {
      "cell_type": "code",
      "source": [
        "global_debt_gdp = global_debt_gdp.set_index(global_debt_gdp['Datetime'])\n",
        "global_debt_gdp.drop(columns='Datetime', inplace=True)"
      ],
      "metadata": {
        "id": "e7ys4Bx3Rj-R"
      },
      "execution_count": null,
      "outputs": []
    },
    {
      "cell_type": "code",
      "source": [
        "global_debt_gdp"
      ],
      "metadata": {
        "id": "m43UON0Rrspn"
      },
      "execution_count": null,
      "outputs": []
    },
    {
      "cell_type": "code",
      "source": [
        "global_debt_gdp[start_date:end_date]"
      ],
      "metadata": {
        "id": "-kuIaWLkrvSE"
      },
      "execution_count": null,
      "outputs": []
    },
    {
      "cell_type": "code",
      "source": [
        "ironore = dgea['IRONORE']\n",
        "ironore = ironore.set_index(ironore['Date'])\n",
        "ironore.drop(columns='Date', inplace=True)\n",
        "ironore[start_date:end_date]"
      ],
      "metadata": {
        "id": "SYW91Ya5RwDu"
      },
      "execution_count": null,
      "outputs": []
    },
    {
      "cell_type": "code",
      "source": [
        "real_gdp[start_date:end_date]"
      ],
      "metadata": {
        "id": "KUpJmaTID7WK"
      },
      "execution_count": null,
      "outputs": []
    },
    {
      "cell_type": "code",
      "source": [
        "us_treasury_debt = dgea['US-TREASURY-DEBT']\n",
        "us_treasury_debt"
      ],
      "metadata": {
        "id": "n-pozeCxR7kK"
      },
      "execution_count": null,
      "outputs": []
    },
    {
      "cell_type": "code",
      "source": [
        "us_treasury_debt.info()"
      ],
      "metadata": {
        "id": "DLLhgKQwDh73"
      },
      "execution_count": null,
      "outputs": []
    },
    {
      "cell_type": "code",
      "source": [
        "us_treasury_debt = us_treasury_debt.set_index(us_treasury_debt['Datetime'])\n",
        "us_treasury_debt.drop(columns='Datetime', inplace=True)\n",
        "us_treasury_debt[start_date:end_date]"
      ],
      "metadata": {
        "id": "VSed4hh4Dplt"
      },
      "execution_count": null,
      "outputs": []
    },
    {
      "cell_type": "code",
      "source": [
        "us_cpi_monthly = dgea['US_CPI_MONTHLY']\n",
        "us_cpi_monthly"
      ],
      "metadata": {
        "id": "kS037BatR9ov"
      },
      "execution_count": null,
      "outputs": []
    },
    {
      "cell_type": "code",
      "source": [
        "us_cpi_monthly.info()"
      ],
      "metadata": {
        "id": "8OMtR2ZYEFEq"
      },
      "execution_count": null,
      "outputs": []
    },
    {
      "cell_type": "code",
      "source": [
        "us_cpi_monthly = us_cpi_monthly.set_index(us_cpi_monthly['Month'])\n",
        "us_cpi_monthly.drop(columns='Month', inplace=True)\n",
        "us_cpi_monthly[start_date:end_date]"
      ],
      "metadata": {
        "id": "01u3Fy4jEMI5"
      },
      "execution_count": null,
      "outputs": []
    },
    {
      "cell_type": "code",
      "source": [
        "us_broadmoney = dgea['USD_BROADMONEY_CIRCULATION']\n",
        "us_broadmoney"
      ],
      "metadata": {
        "id": "spgrhZhZSUVC"
      },
      "execution_count": null,
      "outputs": []
    },
    {
      "cell_type": "code",
      "source": [
        "us_broadmoney.info()"
      ],
      "metadata": {
        "id": "t6d93TcVEd6S"
      },
      "execution_count": null,
      "outputs": []
    },
    {
      "cell_type": "code",
      "source": [
        "us_broadmoney = us_broadmoney.set_index(us_broadmoney['Datetime'])\n",
        "us_broadmoney.drop(columns='Datetime', inplace=True)\n",
        "us_broadmoney[start_date:end_date]"
      ],
      "metadata": {
        "id": "odpKUpE2EhzL"
      },
      "execution_count": null,
      "outputs": []
    },
    {
      "cell_type": "code",
      "source": [
        "us_debt = dgea['USDEBT-MARKETVALUE']\n",
        "us_debt"
      ],
      "metadata": {
        "id": "dB9gwuM6U2nH"
      },
      "execution_count": null,
      "outputs": []
    },
    {
      "cell_type": "code",
      "source": [
        "us_debt.info()"
      ],
      "metadata": {
        "id": "tZAodtEzE0Da"
      },
      "execution_count": null,
      "outputs": []
    },
    {
      "cell_type": "code",
      "source": [
        "us_debt = us_debt.set_index(us_debt['Datetime'])\n",
        "us_debt.drop(columns='Datetime', inplace=True)\n",
        "us_debt[start_date:end_date]"
      ],
      "metadata": {
        "id": "ioDZAjZQE44A"
      },
      "execution_count": null,
      "outputs": []
    },
    {
      "cell_type": "markdown",
      "source": [
        "# Merge dataframes\n",
        "\n",
        "## Combine dataframes together. If the dates do not match, then insert the date as another row, but if there no data from one of the dataframe, fill with NaN.\n",
        "\n",
        "## Later, we shall use Generative AI to Augment the missing \"NaN\" data."
      ],
      "metadata": {
        "id": "DdlJ9LyuFHmM"
      }
    },
    {
      "cell_type": "code",
      "source": [
        "aus_cpi_monthly[start_date:end_date]"
      ],
      "metadata": {
        "id": "lheyWDNGFNOW"
      },
      "execution_count": null,
      "outputs": []
    },
    {
      "cell_type": "code",
      "source": [
        "aus_money[start_date:end_date]"
      ],
      "metadata": {
        "id": "_pwzcBQkGmUA"
      },
      "execution_count": null,
      "outputs": []
    },
    {
      "cell_type": "markdown",
      "source": [
        "# Combine time series\n",
        "\n",
        "# At this point, we are starting to bring each time series within a time window and into alignment"
      ],
      "metadata": {
        "id": "zjChmbyxFSx5"
      }
    },
    {
      "cell_type": "code",
      "source": [
        "import pandas as pd\n",
        "\n",
        "# Merge the DataFrames and fill missing data with empty or NaNs\n",
        "merged_df = aus_cpi_monthly.combine_first(aus_money).fillna('NA')\n",
        "merged_df"
      ],
      "metadata": {
        "id": "nXmbrKAUJgyV"
      },
      "execution_count": null,
      "outputs": []
    },
    {
      "cell_type": "code",
      "source": [
        "aus_cpi_monthly['AUS_CPI_MONTHLY']"
      ],
      "metadata": {
        "id": "YsVZpeKWkCwT"
      },
      "execution_count": null,
      "outputs": []
    },
    {
      "cell_type": "code",
      "source": [
        "merged_df[start_date:end_date]"
      ],
      "metadata": {
        "id": "W1gMAqaddWAe"
      },
      "execution_count": null,
      "outputs": []
    },
    {
      "cell_type": "code",
      "source": [
        "aus_cashrate"
      ],
      "metadata": {
        "id": "WQcKvmriKOtH"
      },
      "execution_count": null,
      "outputs": []
    },
    {
      "cell_type": "code",
      "source": [
        "merged_df = merged_df.combine_first(aus_cashrate).fillna('NA')\n",
        "merged_df"
      ],
      "metadata": {
        "id": "hAC1z_XiKbAO"
      },
      "execution_count": null,
      "outputs": []
    },
    {
      "cell_type": "code",
      "source": [
        "merged_df[start_date:end_date]"
      ],
      "metadata": {
        "id": "cQb1ndzgdiCl"
      },
      "execution_count": null,
      "outputs": []
    },
    {
      "cell_type": "code",
      "source": [
        "aus_employ_topop"
      ],
      "metadata": {
        "id": "s2c1wVE8Ksin"
      },
      "execution_count": null,
      "outputs": []
    },
    {
      "cell_type": "code",
      "source": [
        "merged_df = merged_df.combine_first(aus_employ_topop).fillna('NA')\n",
        "merged_df"
      ],
      "metadata": {
        "id": "H683BNvyLfob"
      },
      "execution_count": null,
      "outputs": []
    },
    {
      "cell_type": "code",
      "source": [
        "merged_df[start_date:end_date]"
      ],
      "metadata": {
        "id": "SeK5gVeCdrPu"
      },
      "execution_count": null,
      "outputs": []
    },
    {
      "cell_type": "code",
      "source": [
        "aus_gni"
      ],
      "metadata": {
        "id": "_fWMLT9BLw_X"
      },
      "execution_count": null,
      "outputs": []
    },
    {
      "cell_type": "code",
      "source": [
        "merged_df = merged_df.combine_first(aus_gni).fillna('NA')\n",
        "merged_df"
      ],
      "metadata": {
        "id": "qGeQJ1GdL0nK"
      },
      "execution_count": null,
      "outputs": []
    },
    {
      "cell_type": "code",
      "source": [
        "merged_df[start_date:end_date]"
      ],
      "metadata": {
        "id": "k233N8Gkduot"
      },
      "execution_count": null,
      "outputs": []
    },
    {
      "cell_type": "code",
      "source": [
        "aus_unemploy_participation_rate"
      ],
      "metadata": {
        "id": "1rXTWIuxMEhp"
      },
      "execution_count": null,
      "outputs": []
    },
    {
      "cell_type": "code",
      "source": [
        "merged_df = merged_df.combine_first(aus_unemploy_participation_rate).fillna('NA')\n",
        "merged_df"
      ],
      "metadata": {
        "id": "3LXI_tZQMHdM"
      },
      "execution_count": null,
      "outputs": []
    },
    {
      "cell_type": "code",
      "source": [
        "merged_df[start_date:end_date]"
      ],
      "metadata": {
        "id": "-GT8EbOMd7Al"
      },
      "execution_count": null,
      "outputs": []
    },
    {
      "cell_type": "code",
      "source": [
        "copper"
      ],
      "metadata": {
        "id": "0iwSAMYSMeWi"
      },
      "execution_count": null,
      "outputs": []
    },
    {
      "cell_type": "code",
      "source": [
        "merged_df = merged_df.combine_first(copper).fillna('NA')\n",
        "merged_df"
      ],
      "metadata": {
        "id": "b-ZQoGsrMh7d"
      },
      "execution_count": null,
      "outputs": []
    },
    {
      "cell_type": "code",
      "source": [
        "crude"
      ],
      "metadata": {
        "id": "Ly2PctYDMq7w"
      },
      "execution_count": null,
      "outputs": []
    },
    {
      "cell_type": "code",
      "source": [
        "merged_df = merged_df.combine_first(crude).fillna('NA')\n",
        "merged_df"
      ],
      "metadata": {
        "id": "smii__UvMttn"
      },
      "execution_count": null,
      "outputs": []
    },
    {
      "cell_type": "code",
      "source": [
        "fedsfund"
      ],
      "metadata": {
        "id": "M7HJ_PC-M6NH"
      },
      "execution_count": null,
      "outputs": []
    },
    {
      "cell_type": "code",
      "source": [
        "merged_df = merged_df.combine_first(fedsfund).fillna('NA')\n",
        "merged_df"
      ],
      "metadata": {
        "id": "sIrF0cLfM-nI"
      },
      "execution_count": null,
      "outputs": []
    },
    {
      "cell_type": "code",
      "source": [
        "ironore"
      ],
      "metadata": {
        "id": "kB7xFGu0NT5O"
      },
      "execution_count": null,
      "outputs": []
    },
    {
      "cell_type": "code",
      "source": [
        "merged_df = merged_df.combine_first(ironore).fillna('NA')\n",
        "merged_df[start_date:end_date]"
      ],
      "metadata": {
        "id": "O4BqYoNaNa_l"
      },
      "execution_count": null,
      "outputs": []
    },
    {
      "cell_type": "code",
      "source": [
        "merged_df.columns.to_list()"
      ],
      "metadata": {
        "id": "HYxcLBkTNqLM"
      },
      "execution_count": null,
      "outputs": []
    },
    {
      "cell_type": "code",
      "source": [
        "merged_df[start_date:end_date]"
      ],
      "metadata": {
        "id": "2onlhQZEeInp"
      },
      "execution_count": null,
      "outputs": []
    },
    {
      "cell_type": "code",
      "source": [
        "gold"
      ],
      "metadata": {
        "id": "YebcEGTC-Fug"
      },
      "execution_count": null,
      "outputs": []
    },
    {
      "cell_type": "code",
      "source": [
        "merged_df = merged_df.combine_first(gold).fillna('NA')\n",
        "merged_df[start_date:end_date]"
      ],
      "metadata": {
        "id": "J9CNGEsoXpBs"
      },
      "execution_count": null,
      "outputs": []
    },
    {
      "cell_type": "code",
      "source": [
        "merged_df.info()"
      ],
      "metadata": {
        "id": "x99u5ruzF07S"
      },
      "execution_count": null,
      "outputs": []
    },
    {
      "cell_type": "code",
      "source": [
        "silver"
      ],
      "metadata": {
        "id": "OEy5UNoD-JJe"
      },
      "execution_count": null,
      "outputs": []
    },
    {
      "cell_type": "code",
      "source": [
        "merged_df = merged_df.combine_first(silver).fillna('NA')\n",
        "merged_df[start_date:end_date]"
      ],
      "metadata": {
        "id": "J4hC3DFT-OLD"
      },
      "execution_count": null,
      "outputs": []
    },
    {
      "cell_type": "code",
      "source": [
        "merged_df.info()"
      ],
      "metadata": {
        "id": "LtDC3Nbz-Tss"
      },
      "execution_count": null,
      "outputs": []
    },
    {
      "cell_type": "code",
      "source": [
        "merged_df.to_csv('dgea_economic_timeseries_all_dates.csv', header=True, index=True, index_label='Datetime')"
      ],
      "metadata": {
        "id": "0f7gK7Q-eKgu"
      },
      "execution_count": null,
      "outputs": []
    },
    {
      "cell_type": "markdown",
      "source": [
        "# Data Engineering - missing values strategies\n",
        "\n",
        "## We need to adopt a strategy, and there can be many, on how to deal with missing values.\n",
        "\n",
        "## One such strategy is to \"forward-fill\" i.e., use the current value as the next datetime observation if that observation has no value.\n",
        "\n",
        "## Alternatively, \"backward-fill\" could be applied.\n",
        "\n",
        "## Our approach: we apply GANs and VAEs"
      ],
      "metadata": {
        "id": "LDOhql3Gh407"
      }
    },
    {
      "cell_type": "code",
      "source": [
        "!pip install tsgm"
      ],
      "metadata": {
        "id": "ia9vTUSi0hN8"
      },
      "execution_count": null,
      "outputs": []
    },
    {
      "cell_type": "code",
      "source": [
        "!pip install pandas numpy matplotlib keras openpyxl"
      ],
      "metadata": {
        "id": "XvBiKBki1zJY"
      },
      "execution_count": null,
      "outputs": []
    },
    {
      "cell_type": "code",
      "source": [
        "import numpy as np\n",
        "import pandas as pd\n",
        "import openpyxl\n",
        "import random\n",
        "\n",
        "import matplotlib.pyplot as plt\n",
        "\n",
        "from tensorflow import keras\n",
        "from tensorflow.keras import layers\n",
        "\n",
        "import tensorflow as tf\n",
        "\n",
        "import tsgm"
      ],
      "metadata": {
        "id": "yZ3LgcUU11w0"
      },
      "execution_count": null,
      "outputs": []
    },
    {
      "cell_type": "code",
      "source": [
        "dgea_timeseries_file_excel = 'https://s3.ap-southeast-2.wasabisys.com/data5000/dgea_economic_timeseries_all_dates.xlsx'"
      ],
      "metadata": {
        "id": "XkkyBeaGuf5-"
      },
      "execution_count": null,
      "outputs": []
    },
    {
      "cell_type": "code",
      "source": [
        "dgea_timeseries_file = 'https://s3.ap-southeast-2.wasabisys.com/data5000/dgea_economic_timeseries_all_dates.csv'"
      ],
      "metadata": {
        "id": "Vz3zXwIHihS0"
      },
      "execution_count": null,
      "outputs": []
    },
    {
      "cell_type": "code",
      "source": [
        "dgea = pd.read_csv(dgea_timeseries_file)\n",
        "dgea"
      ],
      "metadata": {
        "id": "lOuwD9XVCcfS"
      },
      "execution_count": null,
      "outputs": []
    },
    {
      "cell_type": "markdown",
      "source": [
        "# Data Augmentation and Handling of Missing Timeseries Observations\n",
        "\n",
        "## First - lets see some basic examples"
      ],
      "metadata": {
        "id": "OY0xCjhs0hsL"
      }
    },
    {
      "cell_type": "markdown",
      "source": [
        "## The library that we are using is called \"TSGM\", which is short for Time Series Generative Modelling (see: https://tsgm.readthedocs.io/en/latest/)"
      ],
      "metadata": {
        "id": "CjzdUh63dYP5"
      }
    },
    {
      "cell_type": "code",
      "source": [
        "# generate a time series - sine waves\n",
        "# parameters: 100 sine waves (time series), with each having a length of time of 64\n",
        "# For each time series, there are two features.\n",
        "# The maximum value, or the peak, of each sine wave is 20\n",
        "\n",
        "X = tsgm.utils.gen_sine_dataset(100, 64, 2, max_value=20)\n",
        "X"
      ],
      "metadata": {
        "id": "yr42iE2IwKor"
      },
      "execution_count": null,
      "outputs": []
    },
    {
      "cell_type": "code",
      "source": [
        "len(X)"
      ],
      "metadata": {
        "id": "cOMSyWNfB-rC"
      },
      "execution_count": null,
      "outputs": []
    },
    {
      "cell_type": "code",
      "source": [
        "X.shape"
      ],
      "metadata": {
        "id": "sEvKqQvlCGjC"
      },
      "execution_count": null,
      "outputs": []
    },
    {
      "cell_type": "markdown",
      "source": [
        "## Gaussian Noise"
      ],
      "metadata": {
        "id": "z3V6kdx6womv"
      }
    },
    {
      "cell_type": "code",
      "source": [
        "aug_model = tsgm.models.augmentations.GaussianNoise()\n",
        "samples = aug_model.generate(X=X, n_samples=10, variance=0.2)\n",
        "samples"
      ],
      "metadata": {
        "id": "QexnNk6UvsR2"
      },
      "execution_count": null,
      "outputs": []
    },
    {
      "cell_type": "markdown",
      "source": [
        "## Helper functions to plot time series"
      ],
      "metadata": {
        "id": "su3BVS6lumQi"
      }
    },
    {
      "cell_type": "code",
      "source": [
        "# function to plot\n",
        "def plot(timesteps, X, plot_id=1, title=\"Original Time Series\"):\n",
        "    plt.subplot(1, 2, plot_id)\n",
        "\n",
        "    for sample_id in range(X.shape[0]):\n",
        "        plt.plot(timesteps, X[sample_id, :, 0], label=f\"Sample #{sample_id}\")\n",
        "\n",
        "    plt.title(title)\n",
        "    plt.legend()\n",
        "\n",
        "    #plt.figure(figsize=(20, 20))\n"
      ],
      "metadata": {
        "id": "CtnnoWsRNsC9"
      },
      "execution_count": null,
      "outputs": []
    },
    {
      "cell_type": "code",
      "source": [
        "def plot_samples_aug(X, Xaug, n_samples=5):\n",
        "    timesteps = np.arange(0, X.shape[1], 1)\n",
        "    sample_ids = random.sample(range(X.shape[0]), n_samples)\n",
        "    sample_ids_aug = random.sample(range(Xaug.shape[0]), n_samples)\n",
        "\n",
        "    plot(timesteps, X[sample_ids])\n",
        "    plot(timesteps, Xaug[sample_ids_aug], title=\"Augmented Time Series\", plot_id=2)\n",
        "\n",
        "    plt.figure(figsize=(20, 20))\n",
        "    plt.show()"
      ],
      "metadata": {
        "id": "545gl-82N6TF"
      },
      "execution_count": null,
      "outputs": []
    },
    {
      "cell_type": "code",
      "source": [
        "plot_samples_aug(X, samples)"
      ],
      "metadata": {
        "id": "Vd6xGwQxNm-S"
      },
      "execution_count": null,
      "outputs": []
    },
    {
      "cell_type": "markdown",
      "source": [
        "## Shuffling"
      ],
      "metadata": {
        "id": "-lLXnteMwlHR"
      }
    },
    {
      "cell_type": "code",
      "source": [
        "aug_model = tsgm.models.augmentations.Shuffle()\n",
        "shuffle_samples = aug_model.generate(X=X, n_samples=3)\n",
        "shuffle_samples"
      ],
      "metadata": {
        "id": "D3M9ryGZwaKg"
      },
      "execution_count": null,
      "outputs": []
    },
    {
      "cell_type": "markdown",
      "source": [
        "## Magnitude Warping"
      ],
      "metadata": {
        "id": "wAzBKxPuwrh4"
      }
    },
    {
      "cell_type": "code",
      "source": [
        "aug_model = tsgm.models.augmentations.MagnitudeWarping()\n",
        "warp_mag_samples = aug_model.generate(X=X, n_samples=10, sigma=1)\n",
        "warp_mag_samples"
      ],
      "metadata": {
        "id": "Zt7b0Oa8wgSP"
      },
      "execution_count": null,
      "outputs": []
    },
    {
      "cell_type": "code",
      "source": [
        "plot_samples_aug(X, warp_mag_samples)"
      ],
      "metadata": {
        "id": "5_CiHpI2O3PB"
      },
      "execution_count": null,
      "outputs": []
    },
    {
      "cell_type": "markdown",
      "source": [
        "## Dynamic Time Warping (Barycentric Average)"
      ],
      "metadata": {
        "id": "lnuOKzOKw6-N"
      }
    },
    {
      "cell_type": "code",
      "source": [
        "aug_model = tsgm.models.augmentations.DTWBarycentricAveraging()\n",
        "\n",
        "\n",
        "initial_timeseries = random.sample(range(X.shape[0]), 10)\n",
        "initial_timeseries = X[initial_timeseries]\n",
        "\n",
        "\n",
        "time_warp_samples = aug_model.generate(X=X, n_samples=10, initial_timeseries=initial_timeseries)\n",
        "time_warp_samples"
      ],
      "metadata": {
        "id": "BL5go3yVwy7q"
      },
      "execution_count": null,
      "outputs": []
    },
    {
      "cell_type": "code",
      "source": [
        "plot_samples_aug(X, time_warp_samples)"
      ],
      "metadata": {
        "id": "gkcvSwvaPIS2"
      },
      "execution_count": null,
      "outputs": []
    },
    {
      "cell_type": "markdown",
      "source": [
        "## Generative Models - VAEs"
      ],
      "metadata": {
        "id": "Vezpf4f2xXXp"
      }
    },
    {
      "cell_type": "code",
      "source": [
        "# number of time series, length of time, number of features\n",
        "n, n_ts, n_features = 1000, 24, 5\n",
        "\n",
        "# create toy sine wave time series as before\n",
        "data = tsgm.utils.gen_sine_dataset(n, n_ts, n_features)\n",
        "\n",
        "# but scale the values\n",
        "scaler = tsgm.utils.TSFeatureWiseScaler()\n",
        "\n",
        "scaled_data = scaler.fit_transform(data)\n",
        "\n",
        "# our toy sine data\n",
        "scaled_data"
      ],
      "metadata": {
        "id": "N-IGazx8xZT2"
      },
      "execution_count": null,
      "outputs": []
    },
    {
      "cell_type": "code",
      "source": [
        "scaled_data.shape"
      ],
      "metadata": {
        "id": "F21uLh8NW_PP"
      },
      "execution_count": null,
      "outputs": []
    },
    {
      "cell_type": "markdown",
      "source": [
        "## Now we can use Generative Models to \"FIT\" our data\n",
        "## Then we can generate samples"
      ],
      "metadata": {
        "id": "5LKb4lG-yU_l"
      }
    },
    {
      "cell_type": "code",
      "source": [
        "# as before we have 1000 sine waves, each of length 24, and each has 5 features\n",
        "n, n_ts, n_features  = 1000, 24, 5\n",
        "\n",
        "\n",
        "data = tsgm.utils.gen_sine_dataset(n, n_ts, n_features)\n",
        "scaler = tsgm.utils.TSFeatureWiseScaler()\n",
        "scaled_data = scaler.fit_transform(data)\n",
        "\n",
        "# specify generative architecture\n",
        "architecture = tsgm.models.zoo[\"vae_conv5\"](n_ts, n_features, 10)\n",
        "\n",
        "# encoder-decoder\n",
        "encoder, decoder = architecture.encoder, architecture.decoder\n",
        "\n",
        "# VAE\n",
        "vae = tsgm.models.cvae.BetaVAE(encoder, decoder)\n",
        "\n",
        "# optimiser\n",
        "vae.compile(optimizer=keras.optimizers.Adam())\n",
        "\n",
        "# fit on our toy sine wave data with scaled values [-1,1]\n",
        "vae.fit(scaled_data, epochs=10, batch_size=64)\n",
        "\n",
        "# generate samples\n",
        "vae_samples = vae.generate(10)"
      ],
      "metadata": {
        "id": "Z_aSH0dIxkCp"
      },
      "execution_count": null,
      "outputs": []
    },
    {
      "cell_type": "code",
      "source": [
        "# get the first tensor\n",
        "vae_samples[0]"
      ],
      "metadata": {
        "id": "g4NgOUi0WzG0"
      },
      "execution_count": null,
      "outputs": []
    },
    {
      "cell_type": "code",
      "source": [
        "len(vae_samples[0])"
      ],
      "metadata": {
        "id": "CMHe5vb8Yalp"
      },
      "execution_count": null,
      "outputs": []
    },
    {
      "cell_type": "code",
      "source": [
        "# this is a tensorflow tensor (works the same in Pytorch)\n",
        "vae_samples"
      ],
      "metadata": {
        "id": "WufWNsOxYiQw"
      },
      "execution_count": null,
      "outputs": []
    },
    {
      "cell_type": "code",
      "source": [
        "# extract the array that is inside the tensor\n",
        "vae_array = vae_samples.numpy()\n",
        "vae_array"
      ],
      "metadata": {
        "id": "X2dBtsilaI4b"
      },
      "execution_count": null,
      "outputs": []
    },
    {
      "cell_type": "code",
      "source": [
        "# there are 10 time series, each of length 24, and has 5 features\n",
        "vae_array.shape"
      ],
      "metadata": {
        "id": "CrX3c-1_a2oE"
      },
      "execution_count": null,
      "outputs": []
    },
    {
      "cell_type": "code",
      "source": [
        "# get the first time series\n",
        "vae_array[0]"
      ],
      "metadata": {
        "id": "83YNjKzfamj7"
      },
      "execution_count": null,
      "outputs": []
    },
    {
      "cell_type": "code",
      "source": [
        "# time series has a length of 24 and 5 features\n",
        "vae_array[0].shape"
      ],
      "metadata": {
        "id": "lu_mXfTVaq88"
      },
      "execution_count": null,
      "outputs": []
    },
    {
      "cell_type": "code",
      "source": [
        "# function to plot\n",
        "def plot_vae(timesteps, X, plot_id=1, title=\"Original Time Series\"):\n",
        "    plt.subplot(1, 2, plot_id)\n",
        "\n",
        "    for sample_id in range(X.shape[0]):\n",
        "        plt.plot(timesteps, X[sample_id, :, 0], label=f\"Sample #{sample_id}\")\n",
        "\n",
        "    plt.title(title)\n",
        "    plt.legend()"
      ],
      "metadata": {
        "id": "bI6wCWIWbHn2"
      },
      "execution_count": null,
      "outputs": []
    },
    {
      "cell_type": "code",
      "source": [
        "def plot_vae_aug(X, Xaug, n_samples=5):\n",
        "\n",
        "    timesteps = np.arange(0, X.shape[1], 1)\n",
        "\n",
        "    sample_ids = random.sample(range(X.shape[0]), n_samples)\n",
        "    sample_ids_aug = random.sample(range(Xaug.shape[0]), n_samples)\n",
        "\n",
        "    plot_vae(timesteps, X[sample_ids])\n",
        "    plot_vae(timesteps, Xaug[sample_ids_aug], title=\"VAE Time Series\", plot_id=2)\n",
        "    plt.show()"
      ],
      "metadata": {
        "id": "vveal75AbIyA"
      },
      "execution_count": null,
      "outputs": []
    },
    {
      "cell_type": "code",
      "source": [
        "plot_vae_aug(scaled_data, vae_array)"
      ],
      "metadata": {
        "id": "8-IC18AUbTFF"
      },
      "execution_count": null,
      "outputs": []
    },
    {
      "cell_type": "markdown",
      "source": [
        "# Generative Models on DGEA Dataset"
      ],
      "metadata": {
        "id": "4XYDY3vM62nu"
      }
    },
    {
      "cell_type": "code",
      "source": [
        "dgea_sheets = ['AUS_CPI_QUARTER',\n",
        "              'AUS_CPI_MONTHLY',\n",
        "              'AUS_MONEY',\n",
        "              'AUS_CASHRATE',\n",
        "              'AUS_UNEMPLOY_PARTICPATION_RATE',\n",
        "              'AUS_EMPLOY_TOPOP',\n",
        "              'REALGDP',\n",
        "              'AUS_GNI',\n",
        "              'GOLDYAHOO',\n",
        "              'CRUDEOIL',\n",
        "              'IRONORE',\n",
        "              'SILVER',\n",
        "              'COPPER',\n",
        "              'USDEBT-MARKETVALUE',\n",
        "              'US-TREASURY-DEBT',\n",
        "              'USMONEYCIRCULATE',\n",
        "              'USD_BROADMONEY_CIRCULATION',\n",
        "              'US_CPI_MONTHLY',\n",
        "              'FEDFUNDRATE',\n",
        "              'GLOBAL-DEBT-GDP']"
      ],
      "metadata": {
        "id": "RYiEWs2L6qMI"
      },
      "execution_count": null,
      "outputs": []
    },
    {
      "cell_type": "code",
      "source": [
        "# load excel workbook containing multiple sheets\n",
        "dgea_original_timeseries = pd.read_excel('https://s3.ap-southeast-2.wasabisys.com/data5000/DGEA_ECONOMICS_DATASET2023v1.xlsx', sheet_name=dgea_sheets)"
      ],
      "metadata": {
        "id": "cGjRR-WG8Pwx"
      },
      "execution_count": null,
      "outputs": []
    },
    {
      "cell_type": "code",
      "source": [
        "dgea_original_timeseries['AUS_CPI_MONTHLY']"
      ],
      "metadata": {
        "id": "hkgaPFIg8kNy"
      },
      "execution_count": null,
      "outputs": []
    },
    {
      "cell_type": "markdown",
      "source": [
        "# Apply Generative Model"
      ],
      "metadata": {
        "id": "P1N5jgVQAw25"
      }
    },
    {
      "cell_type": "code",
      "source": [
        "max_time = len(dgea_original_timeseries['AUS_CPI_MONTHLY'])\n",
        "max_time"
      ],
      "metadata": {
        "id": "Db6yOWDvg2p1"
      },
      "execution_count": null,
      "outputs": []
    },
    {
      "cell_type": "code",
      "source": [
        "# we create 1 time series with max time and only a single feature\n",
        "n, n_ts, n_features  = 1, max_time, 1\n",
        "\n",
        "\n",
        "data = tsgm.utils.gen_sine_dataset(n, n_ts, n_features)\n",
        "data"
      ],
      "metadata": {
        "id": "KHigI4I6gV6P"
      },
      "execution_count": null,
      "outputs": []
    },
    {
      "cell_type": "code",
      "source": [
        "data.shape"
      ],
      "metadata": {
        "id": "MQsa-_dxgtYo"
      },
      "execution_count": null,
      "outputs": []
    },
    {
      "cell_type": "code",
      "source": [
        "scaler = tsgm.utils.TSFeatureWiseScaler()\n",
        "scaled_data = scaler.fit_transform(data)\n",
        "scaled_data"
      ],
      "metadata": {
        "id": "yvMQnkuGgnZ8"
      },
      "execution_count": null,
      "outputs": []
    },
    {
      "cell_type": "code",
      "source": [
        "scaled_data.shape"
      ],
      "metadata": {
        "id": "WUUuq_ZPmwiI"
      },
      "execution_count": null,
      "outputs": []
    },
    {
      "cell_type": "code",
      "source": [
        "# specify generative architecture\n",
        "architecture = tsgm.models.zoo[\"vae_conv5\"](n_ts, n_features, 10)\n",
        "\n",
        "# encoder-decoder\n",
        "encoder, decoder = architecture.encoder, architecture.decoder\n",
        "\n",
        "# VAE\n",
        "vae = tsgm.models.cvae.BetaVAE(encoder, decoder)\n",
        "\n",
        "# optimiser\n",
        "vae.compile(optimizer=keras.optimizers.Adam())"
      ],
      "metadata": {
        "id": "HGSQNP5egYSR"
      },
      "execution_count": null,
      "outputs": []
    },
    {
      "cell_type": "code",
      "source": [
        "# fit on our toy sine wave data with scaled values [-1,1]\n",
        "vae.fit(scaled_data, epochs=10, batch_size=64)"
      ],
      "metadata": {
        "id": "rUmzR5HGggJU"
      },
      "execution_count": null,
      "outputs": []
    },
    {
      "cell_type": "code",
      "source": [
        "# generate samples\n",
        "vae_samples = vae.generate(10)\n",
        "vae_samples"
      ],
      "metadata": {
        "id": "aFg2nPtrgi5M"
      },
      "execution_count": null,
      "outputs": []
    },
    {
      "cell_type": "markdown",
      "source": [
        "# Using VAE for Australian CPI (Monthly)"
      ],
      "metadata": {
        "id": "To4SSJjZ9QHf"
      }
    },
    {
      "cell_type": "code",
      "source": [
        "auscpi_month = dgea_original_timeseries['AUS_CPI_MONTHLY']\n",
        "auscpi_month"
      ],
      "metadata": {
        "id": "3wOP8ifJiLv6"
      },
      "execution_count": null,
      "outputs": []
    },
    {
      "cell_type": "code",
      "source": [
        "auscpi_month['AUS_CPI_MONTHLY']"
      ],
      "metadata": {
        "id": "LK_Pa2dvipPf"
      },
      "execution_count": null,
      "outputs": []
    },
    {
      "cell_type": "code",
      "source": [
        "# we create 1 time series with max time and only a single feature\n",
        "n, n_ts, n_features  = 1, max_time, 1"
      ],
      "metadata": {
        "id": "p7pGAna6nRVb"
      },
      "execution_count": null,
      "outputs": []
    },
    {
      "cell_type": "markdown",
      "source": [
        "## How to reshape tensors and arrays"
      ],
      "metadata": {
        "id": "m1A5aUk0sgat"
      }
    },
    {
      "cell_type": "code",
      "source": [
        "import pandas as pd\n",
        "import numpy as np\n",
        "\n",
        "# Create a sample Pandas Series\n",
        "data = pd.Series([1, 2, 3, 4, 5])\n",
        "\n",
        "# Convert the Pandas Series to a NumPy array\n",
        "numpy_array = data.values\n",
        "\n",
        "# Reshape the NumPy array\n",
        "numpy_array_reshaped = numpy_array.reshape(1, len(data), 1)\n",
        "\n",
        "print(numpy_array_reshaped)"
      ],
      "metadata": {
        "id": "iBOWNncEnGk8"
      },
      "execution_count": null,
      "outputs": []
    },
    {
      "cell_type": "code",
      "source": [
        "cpi_array = auscpi_month['AUS_CPI_MONTHLY'].values\n",
        "cpi_array"
      ],
      "metadata": {
        "id": "an0wZhs0loxp"
      },
      "execution_count": null,
      "outputs": []
    },
    {
      "cell_type": "code",
      "source": [
        "len(cpi_array)"
      ],
      "metadata": {
        "id": "0p3Uf81YmVxW"
      },
      "execution_count": null,
      "outputs": []
    },
    {
      "cell_type": "code",
      "source": [
        "# Reshape the NumPy array\n",
        "cpi_array_reshaped = cpi_array.reshape(n, n_ts, n_features)\n",
        "cpi_array_reshaped"
      ],
      "metadata": {
        "id": "qtEax5K6idr5"
      },
      "execution_count": null,
      "outputs": []
    },
    {
      "cell_type": "code",
      "source": [
        "cpi_scaler = tsgm.utils.TSFeatureWiseScaler((-1,1))\n",
        "\n",
        "cpi_scaled_data = cpi_scaler.fit_transform(cpi_array_reshaped)\n",
        "\n",
        "cpi_scaled_data"
      ],
      "metadata": {
        "id": "fF3G_xYAmWmF"
      },
      "execution_count": null,
      "outputs": []
    },
    {
      "cell_type": "code",
      "source": [
        "# specify generative architecture\n",
        "architecture = tsgm.models.zoo[\"vae_conv5\"](n_ts, n_features, 10)\n",
        "\n",
        "# encoder-decoder\n",
        "encoder, decoder = architecture.encoder, architecture.decoder\n",
        "\n",
        "# VAE\n",
        "vae = tsgm.models.cvae.BetaVAE(encoder, decoder)\n",
        "\n",
        "# optimiser\n",
        "vae.compile(optimizer=keras.optimizers.Adam())"
      ],
      "metadata": {
        "id": "5CTlcG2eiV-b"
      },
      "execution_count": null,
      "outputs": []
    },
    {
      "cell_type": "code",
      "source": [
        "# fit on our data\n",
        "vae.fit(cpi_scaled_data, epochs=10, batch_size=64)"
      ],
      "metadata": {
        "id": "dswYb1RQjNY0"
      },
      "execution_count": null,
      "outputs": []
    },
    {
      "cell_type": "code",
      "source": [
        "# generate samples\n",
        "vae_samples = vae.generate(1)\n",
        "vae_samples"
      ],
      "metadata": {
        "id": "7hPqsTKOoVfw"
      },
      "execution_count": null,
      "outputs": []
    },
    {
      "cell_type": "markdown",
      "source": [
        "# Missing Values Strategies"
      ],
      "metadata": {
        "id": "g4TsmJeUc46M"
      }
    },
    {
      "cell_type": "code",
      "source": [
        "dgea_sheets = ['AUS_CPI_QUARTER',\n",
        "              'AUS_CPI_MONTHLY',\n",
        "              'AUS_MONEY',\n",
        "              'AUS_CASHRATE',\n",
        "              'AUS_UNEMPLOY_PARTICPATION_RATE',\n",
        "              'AUS_EMPLOY_TOPOP',\n",
        "              'REALGDP',\n",
        "              'AUS_GNI',\n",
        "              'GOLDYAHOO',\n",
        "              'CRUDEOIL',\n",
        "              'IRONORE',\n",
        "              'SILVER',\n",
        "              'COPPER',\n",
        "              'USDEBT-MARKETVALUE',\n",
        "              'US-TREASURY-DEBT',\n",
        "              'USMONEYCIRCULATE',\n",
        "              'USD_BROADMONEY_CIRCULATION',\n",
        "              'US_CPI_MONTHLY',\n",
        "              'FEDFUNDRATE',\n",
        "              'GLOBAL-DEBT-GDP']"
      ],
      "metadata": {
        "id": "by8h1SdypOjk"
      },
      "execution_count": null,
      "outputs": []
    },
    {
      "cell_type": "code",
      "source": [],
      "metadata": {
        "id": "pyq1NAf2k8f_"
      },
      "execution_count": null,
      "outputs": []
    },
    {
      "cell_type": "code",
      "source": [
        "# load excel workbook containing multiple sheets\n",
        "dgea_original_timeseries = pd.read_excel('https://s3.ap-southeast-2.wasabisys.com/data5000/DGEA_ECONOMICS_DATASET2023v1.xlsx', sheet_name=dgea_sheets)"
      ],
      "metadata": {
        "id": "pOqSlrS6k841"
      },
      "execution_count": null,
      "outputs": []
    },
    {
      "cell_type": "code",
      "source": [
        "dgea_timeseries_file = 'https://s3.ap-southeast-2.wasabisys.com/data5000/dgea_economic_timeseries_all_dates.csv'"
      ],
      "metadata": {
        "id": "O_CmNDBYlAGJ"
      },
      "execution_count": null,
      "outputs": []
    },
    {
      "cell_type": "code",
      "source": [
        "# lets look at our merged dataset again\n",
        "dgea = pd.read_csv(dgea_timeseries_file)\n",
        "dgea"
      ],
      "metadata": {
        "id": "nycmmuHZlRoE"
      },
      "execution_count": null,
      "outputs": []
    },
    {
      "cell_type": "code",
      "source": [
        "dgea.columns"
      ],
      "metadata": {
        "id": "ChKQw2BGldZ6"
      },
      "execution_count": null,
      "outputs": []
    },
    {
      "cell_type": "code",
      "source": [
        "# set datetime index\n",
        "dgea = dgea.set_index(dgea['Datetime'])\n",
        "dgea.drop(columns='Datetime', inplace=True)\n",
        "dgea"
      ],
      "metadata": {
        "id": "y6d4ZMnml3fc"
      },
      "execution_count": null,
      "outputs": []
    },
    {
      "cell_type": "markdown",
      "source": [
        "# Remember what the original time series frequency was?\n",
        "\n",
        "## For example, AUS_CPI_MONTHLY: we only have data going back to 2019-08-01. That means that we have only 49 observations.\n",
        "\n",
        "## So what do we do?"
      ],
      "metadata": {
        "id": "nUPaoylYmtJW"
      }
    },
    {
      "cell_type": "code",
      "source": [
        "# original\n",
        "dgea_original_timeseries['AUS_CPI_MONTHLY']"
      ],
      "metadata": {
        "id": "yg9Dj5jAm71P"
      },
      "execution_count": null,
      "outputs": []
    },
    {
      "cell_type": "markdown",
      "source": [
        "## However, when we combine with all the other time series, we can see that the earliest datetime (for another time series) reaches all the way back to 1954! What do we do in this instance?"
      ],
      "metadata": {
        "id": "5LvI6BXciCIO"
      }
    },
    {
      "cell_type": "code",
      "source": [
        "dgea['AUS_CPI_MONTHLY']"
      ],
      "metadata": {
        "id": "dtAXejyZmxyd"
      },
      "execution_count": null,
      "outputs": []
    }
  ]
}